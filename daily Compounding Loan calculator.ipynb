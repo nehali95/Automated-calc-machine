{
 "cells": [
  {
   "cell_type": "code",
   "execution_count": 1,
   "metadata": {},
   "outputs": [],
   "source": [
    "paths='C:\\\\Users\\\\MudraCircle\\\\Nehali\\\\daily-compounding-loan-calculator.xlsx'\n",
    "import xlwings as xw\n",
    "import pandas as pd\n",
    "import datetime as dt\n",
    "import json\n",
    "from openpyxl import load_workbook\n",
    "import numpy as np\n",
    "import datetime"
   ]
  },
  {
   "cell_type": "code",
   "execution_count": 2,
   "metadata": {},
   "outputs": [],
   "source": [
    "def daily_int_rate(paths,loan_amt, anual_int_rate, term_loan_in_yr, first_day_int_accr, first_payment_date, pay_freq, days_in_yr , rounding_onORoff):\n",
    "    app = xw.App()\n",
    "    \n",
    "   \n",
    "    wb = app.books.open(paths)\n",
    "    app=xw.apps.active\n",
    "    sht = wb.sheets['Calculator']\n",
    "   \n",
    "    \n",
    "    date_time_str = first_day_int_accr  \n",
    "    date_time_obj = dt.datetime.strptime(date_time_str, '%Y-%m-%d')\n",
    "    \n",
    "   \n",
    "    date_time_str1 = first_payment_date  \n",
    "    date_time_obj1 = dt.datetime.strptime(date_time_str1, '%Y-%m-%d')\n",
    "    \n",
    "    \n",
    "    sht.range('D9').value =loan_amt\n",
    "    sht.range('D10').value =(anual_int_rate/100)\n",
    "    sht.range('D11').value =term_loan_in_yr\n",
    "    sht.range('D12').value = date_time_obj\n",
    "    sht.range('D13').value = date_time_obj1\n",
    "    sht.range('D14').value = pay_freq\n",
    "    sht.range('D15').value = days_in_yr\n",
    "    sht.range('D17').value = rounding_onORoff\n",
    "    input10=sht.range('D9').value \n",
    "    input20=sht.range('D10').value\n",
    "    input30=sht.range('D11').value\n",
    "    input40=sht.range('D12').value \n",
    "    input50=sht.range('D13').value\n",
    "    input60=sht.range('D14').value\n",
    "    input70=sht.range('D15').value\n",
    "    input80=sht.range('D17').value\n",
    "\n",
    "    wb.save()\n",
    "    app.quit()\n",
    "    \n",
    "    return (input10 , input20, input30 , input40 , input50 , input60 , input70 , input80)\n"
   ]
  },
  {
   "cell_type": "code",
   "execution_count": 3,
   "metadata": {},
   "outputs": [
    {
     "data": {
      "text/plain": [
       "(Decimal('50000'),\n",
       " 0.06,\n",
       " 10.0,\n",
       " datetime.datetime(2017, 5, 5, 0, 0),\n",
       " datetime.datetime(2018, 5, 6, 0, 0),\n",
       " 'Semi-Monthly',\n",
       " 360.0,\n",
       " 'On')"
      ]
     },
     "execution_count": 3,
     "metadata": {},
     "output_type": "execute_result"
    }
   ],
   "source": [
    "daily_int_rate(paths,50000,6,10,'2017-5-5','2018-5-6','Semi-Monthly',360, 'On')\n"
   ]
  },
  {
   "cell_type": "code",
   "execution_count": 4,
   "metadata": {},
   "outputs": [
    {
     "data": {
      "text/plain": [
       "'{\"Daily_Interest_Rate\": 0.00016666666666666666, \"payment\": 278.43}'"
      ]
     },
     "execution_count": 4,
     "metadata": {},
     "output_type": "execute_result"
    }
   ],
   "source": [
    "def daily_int_rate1(paths):\n",
    "    app = xw.App()\n",
    "    wb = app.books.open(paths)\n",
    "    app=xw.apps.active\n",
    "    sht = wb.sheets['Calculator']\n",
    "    name=['Daily_Interest_Rate' , 'payment']\n",
    "    output=[float(sht.range('H9').value) , float(sht.range('D19').value)]\n",
    "    \n",
    "    c=dict(zip(name,output))\n",
    "    C=json.dumps(c)\n",
    "    app.quit()\n",
    "    return C\n",
    "    \n",
    "daily_int_rate1(paths)"
   ]
  },
  {
   "cell_type": "code",
   "execution_count": 5,
   "metadata": {},
   "outputs": [
    {
     "data": {
      "text/plain": [
       "'{\"Pmt\": \"[nan, 1, 2, 3, 4, 5, 6, 7, 8, 9, 10, 11, 12, 13, 14, 15, 16, 17, 18, 19, 20, 21, 22, 23, 24, 25, 26, 27, 28, 29, 30, 31, 32, 33, 34, 35, 36, 37, 38, 39, 40, 41, 42, 43, 44, 45, 46, 47, 48, 49, 50, 51, 52, 53, 54, 55, 56, 57, 58, 59, 60, 61, 62, 63, 64, 65, 66, 67, 68, 69, 70, 71, 72, 73, 74, 75, 76, 77, 78, 79, 80, 81, 82, 83, 84, 85, 86, 87, 88, 89, 90, 91, 92, 93, 94, 95, 96, 97, 98, 99, 100, 101, 102, 103, 104, 105, 106, 107, 108, 109, 110, 111, 112, 113, 114, 115, 116, 117, 118, 119, 120, 121, 122, 123, 124, 125, 126, 127, 128, 129, 130, 131, 132, 133, 134, 135, 136, 137, 138, 139, 140, 141, 142, 143, 144, 145, 146, 147, 148, 149, 150, 151, 152, 153, 154, 155, 156, 157, 158, 159, 160, 161, 162, 163, 164, 165, 166, 167, 168, 169, 170, 171, 172, 173, 174, 175, 176, 177, 178, 179, 180, 181, 182, 183, 184, 185, 186, 187, 188, 189, 190, 191, 192, 193, 194, 195, 196, 197, 198, 199, 200, 201, 202, 203, 204, 205, 206, 207, 208, 209, 210, 211, 212, 213, 214, 215, 216, 217, 218, 219, 220, 221, 222, 223, 224, 225, 226, 227, 228, 229, 230, 231, 232, 233, 234, 235, 236, 237, 238, 239, 240, 241, 242, 243, 244, 245, 246, 247, 248, 249, 250, 251, 252, 253, 254, 255, 256, 257, 258, 259, 260, 261]\", \"Date\": \"[datetime.datetime(2017, 5, 4, 0, 0), datetime.datetime(2018, 5, 6, 0, 0), datetime.datetime(2018, 5, 20, 0, 0), datetime.datetime(2018, 6, 6, 0, 0), datetime.datetime(2018, 6, 20, 0, 0), datetime.datetime(2018, 7, 6, 0, 0), datetime.datetime(2018, 7, 20, 0, 0), datetime.datetime(2018, 8, 6, 0, 0), datetime.datetime(2018, 8, 20, 0, 0), datetime.datetime(2018, 9, 6, 0, 0), datetime.datetime(2018, 9, 20, 0, 0), datetime.datetime(2018, 10, 6, 0, 0), datetime.datetime(2018, 10, 20, 0, 0), datetime.datetime(2018, 11, 6, 0, 0), datetime.datetime(2018, 11, 20, 0, 0), datetime.datetime(2018, 12, 6, 0, 0), datetime.datetime(2018, 12, 20, 0, 0), datetime.datetime(2019, 1, 6, 0, 0), datetime.datetime(2019, 1, 20, 0, 0), datetime.datetime(2019, 2, 6, 0, 0), datetime.datetime(2019, 2, 20, 0, 0), datetime.datetime(2019, 3, 6, 0, 0), datetime.datetime(2019, 3, 20, 0, 0), datetime.datetime(2019, 4, 6, 0, 0), datetime.datetime(2019, 4, 20, 0, 0), datetime.datetime(2019, 5, 6, 0, 0), datetime.datetime(2019, 5, 20, 0, 0), datetime.datetime(2019, 6, 6, 0, 0), datetime.datetime(2019, 6, 20, 0, 0), datetime.datetime(2019, 7, 6, 0, 0), datetime.datetime(2019, 7, 20, 0, 0), datetime.datetime(2019, 8, 6, 0, 0), datetime.datetime(2019, 8, 20, 0, 0), datetime.datetime(2019, 9, 6, 0, 0), datetime.datetime(2019, 9, 20, 0, 0), datetime.datetime(2019, 10, 6, 0, 0), datetime.datetime(2019, 10, 20, 0, 0), datetime.datetime(2019, 11, 6, 0, 0), datetime.datetime(2019, 11, 20, 0, 0), datetime.datetime(2019, 12, 6, 0, 0), datetime.datetime(2019, 12, 20, 0, 0), datetime.datetime(2020, 1, 6, 0, 0), datetime.datetime(2020, 1, 20, 0, 0), datetime.datetime(2020, 2, 6, 0, 0), datetime.datetime(2020, 2, 20, 0, 0), datetime.datetime(2020, 3, 6, 0, 0), datetime.datetime(2020, 3, 20, 0, 0), datetime.datetime(2020, 4, 6, 0, 0), datetime.datetime(2020, 4, 20, 0, 0), datetime.datetime(2020, 5, 6, 0, 0), datetime.datetime(2020, 5, 20, 0, 0), datetime.datetime(2020, 6, 6, 0, 0), datetime.datetime(2020, 6, 20, 0, 0), datetime.datetime(2020, 7, 6, 0, 0), datetime.datetime(2020, 7, 20, 0, 0), datetime.datetime(2020, 8, 6, 0, 0), datetime.datetime(2020, 8, 20, 0, 0), datetime.datetime(2020, 9, 6, 0, 0), datetime.datetime(2020, 9, 20, 0, 0), datetime.datetime(2020, 10, 6, 0, 0), datetime.datetime(2020, 10, 20, 0, 0), datetime.datetime(2020, 11, 6, 0, 0), datetime.datetime(2020, 11, 20, 0, 0), datetime.datetime(2020, 12, 6, 0, 0), datetime.datetime(2020, 12, 20, 0, 0), datetime.datetime(2021, 1, 6, 0, 0), datetime.datetime(2021, 1, 20, 0, 0), datetime.datetime(2021, 2, 6, 0, 0), datetime.datetime(2021, 2, 20, 0, 0), datetime.datetime(2021, 3, 6, 0, 0), datetime.datetime(2021, 3, 20, 0, 0), datetime.datetime(2021, 4, 6, 0, 0), datetime.datetime(2021, 4, 20, 0, 0), datetime.datetime(2021, 5, 6, 0, 0), datetime.datetime(2021, 5, 20, 0, 0), datetime.datetime(2021, 6, 6, 0, 0), datetime.datetime(2021, 6, 20, 0, 0), datetime.datetime(2021, 7, 6, 0, 0), datetime.datetime(2021, 7, 20, 0, 0), datetime.datetime(2021, 8, 6, 0, 0), datetime.datetime(2021, 8, 20, 0, 0), datetime.datetime(2021, 9, 6, 0, 0), datetime.datetime(2021, 9, 20, 0, 0), datetime.datetime(2021, 10, 6, 0, 0), datetime.datetime(2021, 10, 20, 0, 0), datetime.datetime(2021, 11, 6, 0, 0), datetime.datetime(2021, 11, 20, 0, 0), datetime.datetime(2021, 12, 6, 0, 0), datetime.datetime(2021, 12, 20, 0, 0), datetime.datetime(2022, 1, 6, 0, 0), datetime.datetime(2022, 1, 20, 0, 0), datetime.datetime(2022, 2, 6, 0, 0), datetime.datetime(2022, 2, 20, 0, 0), datetime.datetime(2022, 3, 6, 0, 0), datetime.datetime(2022, 3, 20, 0, 0), datetime.datetime(2022, 4, 6, 0, 0), datetime.datetime(2022, 4, 20, 0, 0), datetime.datetime(2022, 5, 6, 0, 0), datetime.datetime(2022, 5, 20, 0, 0), datetime.datetime(2022, 6, 6, 0, 0), datetime.datetime(2022, 6, 20, 0, 0), datetime.datetime(2022, 7, 6, 0, 0), datetime.datetime(2022, 7, 20, 0, 0), datetime.datetime(2022, 8, 6, 0, 0), datetime.datetime(2022, 8, 20, 0, 0), datetime.datetime(2022, 9, 6, 0, 0), datetime.datetime(2022, 9, 20, 0, 0), datetime.datetime(2022, 10, 6, 0, 0), datetime.datetime(2022, 10, 20, 0, 0), datetime.datetime(2022, 11, 6, 0, 0), datetime.datetime(2022, 11, 20, 0, 0), datetime.datetime(2022, 12, 6, 0, 0), datetime.datetime(2022, 12, 20, 0, 0), datetime.datetime(2023, 1, 6, 0, 0), datetime.datetime(2023, 1, 20, 0, 0), datetime.datetime(2023, 2, 6, 0, 0), datetime.datetime(2023, 2, 20, 0, 0), datetime.datetime(2023, 3, 6, 0, 0), datetime.datetime(2023, 3, 20, 0, 0), datetime.datetime(2023, 4, 6, 0, 0), datetime.datetime(2023, 4, 20, 0, 0), datetime.datetime(2023, 5, 6, 0, 0), datetime.datetime(2023, 5, 20, 0, 0), datetime.datetime(2023, 6, 6, 0, 0), datetime.datetime(2023, 6, 20, 0, 0), datetime.datetime(2023, 7, 6, 0, 0), datetime.datetime(2023, 7, 20, 0, 0), datetime.datetime(2023, 8, 6, 0, 0), datetime.datetime(2023, 8, 20, 0, 0), datetime.datetime(2023, 9, 6, 0, 0), datetime.datetime(2023, 9, 20, 0, 0), datetime.datetime(2023, 10, 6, 0, 0), datetime.datetime(2023, 10, 20, 0, 0), datetime.datetime(2023, 11, 6, 0, 0), datetime.datetime(2023, 11, 20, 0, 0), datetime.datetime(2023, 12, 6, 0, 0), datetime.datetime(2023, 12, 20, 0, 0), datetime.datetime(2024, 1, 6, 0, 0), datetime.datetime(2024, 1, 20, 0, 0), datetime.datetime(2024, 2, 6, 0, 0), datetime.datetime(2024, 2, 20, 0, 0), datetime.datetime(2024, 3, 6, 0, 0), datetime.datetime(2024, 3, 20, 0, 0), datetime.datetime(2024, 4, 6, 0, 0), datetime.datetime(2024, 4, 20, 0, 0), datetime.datetime(2024, 5, 6, 0, 0), datetime.datetime(2024, 5, 20, 0, 0), datetime.datetime(2024, 6, 6, 0, 0), datetime.datetime(2024, 6, 20, 0, 0), datetime.datetime(2024, 7, 6, 0, 0), datetime.datetime(2024, 7, 20, 0, 0), datetime.datetime(2024, 8, 6, 0, 0), datetime.datetime(2024, 8, 20, 0, 0), datetime.datetime(2024, 9, 6, 0, 0), datetime.datetime(2024, 9, 20, 0, 0), datetime.datetime(2024, 10, 6, 0, 0), datetime.datetime(2024, 10, 20, 0, 0), datetime.datetime(2024, 11, 6, 0, 0), datetime.datetime(2024, 11, 20, 0, 0), datetime.datetime(2024, 12, 6, 0, 0), datetime.datetime(2024, 12, 20, 0, 0), datetime.datetime(2025, 1, 6, 0, 0), datetime.datetime(2025, 1, 20, 0, 0), datetime.datetime(2025, 2, 6, 0, 0), datetime.datetime(2025, 2, 20, 0, 0), datetime.datetime(2025, 3, 6, 0, 0), datetime.datetime(2025, 3, 20, 0, 0), datetime.datetime(2025, 4, 6, 0, 0), datetime.datetime(2025, 4, 20, 0, 0), datetime.datetime(2025, 5, 6, 0, 0), datetime.datetime(2025, 5, 20, 0, 0), datetime.datetime(2025, 6, 6, 0, 0), datetime.datetime(2025, 6, 20, 0, 0), datetime.datetime(2025, 7, 6, 0, 0), datetime.datetime(2025, 7, 20, 0, 0), datetime.datetime(2025, 8, 6, 0, 0), datetime.datetime(2025, 8, 20, 0, 0), datetime.datetime(2025, 9, 6, 0, 0), datetime.datetime(2025, 9, 20, 0, 0), datetime.datetime(2025, 10, 6, 0, 0), datetime.datetime(2025, 10, 20, 0, 0), datetime.datetime(2025, 11, 6, 0, 0), datetime.datetime(2025, 11, 20, 0, 0), datetime.datetime(2025, 12, 6, 0, 0), datetime.datetime(2025, 12, 20, 0, 0), datetime.datetime(2026, 1, 6, 0, 0), datetime.datetime(2026, 1, 20, 0, 0), datetime.datetime(2026, 2, 6, 0, 0), datetime.datetime(2026, 2, 20, 0, 0), datetime.datetime(2026, 3, 6, 0, 0), datetime.datetime(2026, 3, 20, 0, 0), datetime.datetime(2026, 4, 6, 0, 0), datetime.datetime(2026, 4, 20, 0, 0), datetime.datetime(2026, 5, 6, 0, 0), datetime.datetime(2026, 5, 20, 0, 0), datetime.datetime(2026, 6, 6, 0, 0), datetime.datetime(2026, 6, 20, 0, 0), datetime.datetime(2026, 7, 6, 0, 0), datetime.datetime(2026, 7, 20, 0, 0), datetime.datetime(2026, 8, 6, 0, 0), datetime.datetime(2026, 8, 20, 0, 0), datetime.datetime(2026, 9, 6, 0, 0), datetime.datetime(2026, 9, 20, 0, 0), datetime.datetime(2026, 10, 6, 0, 0), datetime.datetime(2026, 10, 20, 0, 0), datetime.datetime(2026, 11, 6, 0, 0), datetime.datetime(2026, 11, 20, 0, 0), datetime.datetime(2026, 12, 6, 0, 0), datetime.datetime(2026, 12, 20, 0, 0), datetime.datetime(2027, 1, 6, 0, 0), datetime.datetime(2027, 1, 20, 0, 0), datetime.datetime(2027, 2, 6, 0, 0), datetime.datetime(2027, 2, 20, 0, 0), datetime.datetime(2027, 3, 6, 0, 0), datetime.datetime(2027, 3, 20, 0, 0), datetime.datetime(2027, 4, 6, 0, 0), datetime.datetime(2027, 4, 20, 0, 0), datetime.datetime(2027, 5, 6, 0, 0), datetime.datetime(2027, 5, 20, 0, 0), datetime.datetime(2027, 6, 6, 0, 0), datetime.datetime(2027, 6, 20, 0, 0), datetime.datetime(2027, 7, 6, 0, 0), datetime.datetime(2027, 7, 20, 0, 0), datetime.datetime(2027, 8, 6, 0, 0), datetime.datetime(2027, 8, 20, 0, 0), datetime.datetime(2027, 9, 6, 0, 0), datetime.datetime(2027, 9, 20, 0, 0), datetime.datetime(2027, 10, 6, 0, 0), datetime.datetime(2027, 10, 20, 0, 0), datetime.datetime(2027, 11, 6, 0, 0), datetime.datetime(2027, 11, 20, 0, 0), datetime.datetime(2027, 12, 6, 0, 0), datetime.datetime(2027, 12, 20, 0, 0), datetime.datetime(2028, 1, 6, 0, 0), datetime.datetime(2028, 1, 20, 0, 0), datetime.datetime(2028, 2, 6, 0, 0), datetime.datetime(2028, 2, 20, 0, 0), datetime.datetime(2028, 3, 6, 0, 0), datetime.datetime(2028, 3, 20, 0, 0), datetime.datetime(2028, 4, 6, 0, 0), datetime.datetime(2028, 4, 20, 0, 0), datetime.datetime(2028, 5, 6, 0, 0), datetime.datetime(2028, 5, 20, 0, 0), datetime.datetime(2028, 6, 6, 0, 0), datetime.datetime(2028, 6, 20, 0, 0), datetime.datetime(2028, 7, 6, 0, 0), datetime.datetime(2028, 7, 20, 0, 0), datetime.datetime(2028, 8, 6, 0, 0), datetime.datetime(2028, 8, 20, 0, 0), datetime.datetime(2028, 9, 6, 0, 0), datetime.datetime(2028, 9, 20, 0, 0), datetime.datetime(2028, 10, 6, 0, 0), datetime.datetime(2028, 10, 20, 0, 0), datetime.datetime(2028, 11, 6, 0, 0), datetime.datetime(2028, 11, 20, 0, 0), datetime.datetime(2028, 12, 6, 0, 0), datetime.datetime(2028, 12, 20, 0, 0), datetime.datetime(2029, 1, 6, 0, 0), datetime.datetime(2029, 1, 20, 0, 0), datetime.datetime(2029, 2, 6, 0, 0), datetime.datetime(2029, 2, 20, 0, 0), datetime.datetime(2029, 3, 6, 0, 0)]\", \"Payment\": \"[nan, 278.43, 278.43, 278.43, 278.43, 278.43, 278.43, 278.43, 278.43, 278.43, 278.43, 278.43, 278.43, 278.43, 278.43, 278.43, 278.43, 278.43, 278.43, 278.43, 278.43, 278.43, 278.43, 278.43, 278.43, 278.43, 278.43, 278.43, 278.43, 278.43, 278.43, 278.43, 278.43, 278.43, 278.43, 278.43, 278.43, 278.43, 278.43, 278.43, 278.43, 278.43, 278.43, 278.43, 278.43, 278.43, 278.43, 278.43, 278.43, 278.43, 278.43, 278.43, 278.43, 278.43, 278.43, 278.43, 278.43, 278.43, 278.43, 278.43, 278.43, 278.43, 278.43, 278.43, 278.43, 278.43, 278.43, 278.43, 278.43, 278.43, 278.43, 278.43, 278.43, 278.43, 278.43, 278.43, 278.43, 278.43, 278.43, 278.43, 278.43, 278.43, 278.43, 278.43, 278.43, 278.43, 278.43, 278.43, 278.43, 278.43, 278.43, 278.43, 278.43, 278.43, 278.43, 278.43, 278.43, 278.43, 278.43, 278.43, 278.43, 278.43, 278.43, 278.43, 278.43, 278.43, 278.43, 278.43, 278.43, 278.43, 278.43, 278.43, 278.43, 278.43, 278.43, 278.43, 278.43, 278.43, 278.43, 278.43, 278.43, 278.43, 278.43, 278.43, 278.43, 278.43, 278.43, 278.43, 278.43, 278.43, 278.43, 278.43, 278.43, 278.43, 278.43, 278.43, 278.43, 278.43, 278.43, 278.43, 278.43, 278.43, 278.43, 278.43, 278.43, 278.43, 278.43, 278.43, 278.43, 278.43, 278.43, 278.43, 278.43, 278.43, 278.43, 278.43, 278.43, 278.43, 278.43, 278.43, 278.43, 278.43, 278.43, 278.43, 278.43, 278.43, 278.43, 278.43, 278.43, 278.43, 278.43, 278.43, 278.43, 278.43, 278.43, 278.43, 278.43, 278.43, 278.43, 278.43, 278.43, 278.43, 278.43, 278.43, 278.43, 278.43, 278.43, 278.43, 278.43, 278.43, 278.43, 278.43, 278.43, 278.43, 278.43, 278.43, 278.43, 278.43, 278.43, 278.43, 278.43, 278.43, 278.43, 278.43, 278.43, 278.43, 278.43, 278.43, 278.43, 278.43, 278.43, 278.43, 278.43, 278.43, 278.43, 278.43, 278.43, 278.43, 278.43, 278.43, 278.43, 278.43, 278.43, 278.43, 278.43, 278.43, 278.43, 278.43, 278.43, 278.43, 278.43, 278.43, 278.43, 278.43, 278.43, 278.43, 278.43, 278.43, 278.43, 278.43, 278.43, 278.43, 278.43, 278.43, 278.43, 278.43, 278.43, 278.43, 278.43, 278.43, 278.43, 278.43, 278.43, 278.43, 278.43, 278.43, 278.43, 278.43, 278.43, 278.43, 278.43, 157.450000000003]\", \"Additional_Payments\": \"[nan, nan, nan, nan, nan, nan, nan, nan, nan, nan, nan, nan, nan, nan, nan, nan, nan, nan, nan, nan, nan, nan, nan, nan, nan, nan, nan, nan, nan, nan, nan, nan, nan, nan, nan, nan, nan, nan, nan, nan, nan, nan, nan, nan, nan, nan, nan, nan, nan, nan, nan, nan, nan, nan, nan, nan, nan, nan, nan, nan, nan, nan, nan, nan, nan, nan, nan, nan, nan, nan, nan, nan, nan, nan, nan, nan, nan, nan, nan, nan, nan, nan, nan, nan, nan, nan, nan, nan, nan, nan, nan, nan, nan, nan, nan, nan, nan, nan, nan, nan, nan, nan, nan, nan, nan, nan, nan, nan, nan, nan, nan, nan, nan, nan, nan, nan, nan, nan, nan, nan, nan, nan, nan, nan, nan, nan, nan, nan, nan, nan, nan, nan, nan, nan, nan, nan, nan, nan, nan, nan, nan, nan, nan, nan, nan, nan, nan, nan, nan, nan, nan, nan, nan, nan, nan, nan, nan, nan, nan, nan, nan, nan, nan, nan, nan, nan, nan, nan, nan, nan, nan, nan, nan, nan, nan, nan, nan, nan, nan, nan, nan, nan, nan, nan, nan, nan, nan, nan, nan, nan, nan, nan, nan, nan, nan, nan, nan, nan, nan, nan, nan, nan, nan, nan, nan, nan, nan, nan, nan, nan, nan, nan, nan, nan, nan, nan, nan, nan, nan, nan, nan, nan, nan, nan, nan, nan, nan, nan, nan, nan, nan, nan, nan, nan, nan, nan, nan, nan, nan, nan, nan, nan, nan, nan, nan, nan, nan, nan, nan, nan, nan, nan, nan, nan, nan, nan, nan, nan, nan, nan, nan, nan]\", \"NaN\": \"[nan, nan, nan, nan, nan, nan, nan, nan, nan, nan, nan, nan, nan, nan, nan, nan, nan, nan, nan, nan, nan, nan, nan, nan, nan, nan, nan, nan, nan, nan, nan, nan, nan, nan, nan, nan, nan, nan, nan, nan, nan, nan, nan, nan, nan, nan, nan, nan, nan, nan, nan, nan, nan, nan, nan, nan, nan, nan, nan, nan, nan, nan, nan, nan, nan, nan, nan, nan, nan, nan, nan, nan, nan, nan, nan, nan, nan, nan, nan, nan, nan, nan, nan, nan, nan, nan, nan, nan, nan, nan, nan, nan, nan, nan, nan, nan, nan, nan, nan, nan, nan, nan, nan, nan, nan, nan, nan, nan, nan, nan, nan, nan, nan, nan, nan, nan, nan, nan, nan, nan, nan, nan, nan, nan, nan, nan, nan, nan, nan, nan, nan, nan, nan, nan, nan, nan, nan, nan, nan, nan, nan, nan, nan, nan, nan, nan, nan, nan, nan, nan, nan, nan, nan, nan, nan, nan, nan, nan, nan, nan, nan, nan, nan, nan, nan, nan, nan, nan, nan, nan, nan, nan, nan, nan, nan, nan, nan, nan, nan, nan, nan, nan, nan, nan, nan, nan, nan, nan, nan, nan, nan, nan, nan, nan, nan, nan, nan, nan, nan, nan, nan, nan, nan, nan, nan, nan, nan, nan, nan, nan, nan, nan, nan, nan, nan, nan, nan, nan, nan, nan, nan, nan, nan, nan, nan, nan, nan, nan, nan, nan, nan, nan, nan, nan, nan, nan, nan, nan, nan, nan, nan, nan, nan, nan, nan, nan, nan, nan, nan, nan, nan, nan, nan, nan, nan, nan, nan, nan, nan, nan, nan, nan]\", \"Interest\": \"[nan, 3153.53, 123.51, 149.57, 122.85, 140, 122.16, 147.93, 121.49, 147.11, 120.82, 137.68, 120.12, 145.45, 119.44, 136.1, 118.73, 143.76, 118.05, 142.92, 117.36, 116.98, 116.6, 141.17, 115.9, 132.05, 115.18, 139.44, 114.48, 130.41, 113.75, 137.69, 113.03, 136.82, 112.32, 127.94, 111.58, 135.05, 110.85, 126.26, 110.11, 133.26, 109.37, 132.36, 108.64, 115.98, 107.86, 130.52, 107.12, 121.98, 106.35, 128.69, 105.6, 120.25, 104.83, 126.83, 104.07, 125.9, 103.3, 117.61, 102.52, 124.02, 101.75, 115.83, 100.96, 122.12, 100.18, 121.17, 99.39, 98.97, 98.55, 119.19, 97.76, 111.26, 96.95, 117.24, 96.15, 109.42, 95.33, 115.27, 94.52, 114.28, 93.71, 106.62, 92.87, 112.28, 92.05, 104.72, 91.21, 110.25, 90.38, 109.24, 89.55, 89.11, 88.66, 107.15, 87.82, 99.87, 86.96, 105.07, 86.11, 97.91, 85.23, 102.98, 84.37, 101.93, 83.51, 94.93, 82.62, 99.8, 81.75, 92.92, 80.86, 97.65, 79.97, 96.57, 79.08, 78.62, 78.15, 94.35, 77.25, 87.77, 76.34, 92.15, 75.43, 85.68, 74.51, 89.92, 73.59, 88.8, 72.67, 82.52, 71.73, 86.54, 70.8, 80.37, 69.85, 84.25, 68.91, 83.11, 67.97, 72.3, 66.99, 80.77, 66.04, 74.92, 65.07, 78.42, 64.1, 72.7, 63.12, 76.05, 62.14, 74.87, 61.16, 69.33, 60.17, 72.46, 59.18, 67.06, 58.17, 70.03, 57.17, 68.81, 56.16, 55.64, 55.12, 66.32, 54.11, 61.25, 53.07, 63.82, 52.05, 58.89, 51, 61.3, 49.97, 60.04, 48.92, 55.31, 47.87, 57.48, 46.81, 52.89, 45.74, 54.9, 44.68, 53.6, 43.61, 43.06, 42.51, 50.96, 41.43, 46.72, 40.33, 48.31, 39.24, 44.21, 38.13, 45.63, 37.03, 44.29, 35.92, 40.41, 34.79, 41.57, 33.67, 37.83, 32.54, 38.82, 31.4, 37.44, 30.26, 29.68, 29.1, 34.64, 27.95, 31.28, 26.79, 31.82, 25.62, 28.61, 24.45, 28.98, 23.27, 27.54, 22.09, 24.57, 20.9, 24.65, 19.71, 21.83, 18.5, 21.73, 17.3, 20.27, 16.08, 16.58, 14.86, 17.3, 13.63, 14.87, 12.4, 14.3, 11.16, 12.04, 9.91, 11.28, 8.66, 9.75, 7.4, 7.74, 6.14, 6.68, 4.87, 4.83, 3.59, 3.58, 2.31, 2.02, 1.01, 0.37]\", \"Principal_Paid\": \"[nan, 0, 154.91999999999825, 128.86000000000058, 155.58000000000175, 138.4300000000003, 156.2699999999968, 130.5, 156.94000000000233, 131.3199999999997, 157.61000000000058, 140.75, 158.30999999999767, 132.9800000000032, 158.98999999999796, 142.33000000000175, 159.6999999999971, 134.66999999999825, 160.37999999999738, 135.51000000000204, 161.0699999999997, 161.4499999999971, 161.83000000000175, 137.26000000000204, 162.52999999999884, 146.37999999999738, 163.25, 138.98999999999796, 163.9499999999971, 148.0199999999968, 164.6800000000003, 140.73999999999796, 165.40000000000146, 141.61000000000058, 166.11000000000058, 150.48999999999796, 166.84999999999854, 143.37999999999738, 167.58000000000175, 152.16999999999825, 168.3199999999997, 145.16999999999825, 169.05999999999767, 146.0699999999997, 169.79000000000087, 162.4499999999971, 170.5699999999997, 147.9100000000035, 171.30999999999767, 156.4499999999971, 172.08000000000175, 149.73999999999796, 172.83000000000175, 158.1800000000003, 173.59999999999854, 151.59999999999854, 174.36000000000058, 152.52999999999884, 175.12999999999738, 160.8199999999997, 175.9100000000035, 154.4100000000035, 176.6800000000003, 162.59999999999854, 177.47000000000116, 156.30999999999767, 178.25, 157.26000000000204, 179.04000000000087, 179.45999999999913, 179.87999999999738, 159.23999999999796, 180.66999999999825, 167.16999999999825, 181.4800000000032, 161.19000000000233, 182.27999999999884, 169.01000000000204, 183.09999999999854, 163.1600000000035, 183.9100000000035, 164.15000000000146, 184.72000000000116, 171.80999999999767, 185.55999999999767, 166.15000000000146, 186.37999999999738, 173.70999999999913, 187.22000000000116, 168.1800000000003, 188.0500000000029, 169.19000000000233, 188.87999999999738, 189.3199999999997, 189.7699999999968, 171.27999999999884, 190.61000000000058, 178.55999999999767, 191.47000000000116, 173.36000000000058, 192.3199999999997, 180.5199999999968, 193.1999999999971, 175.4499999999971, 194.05999999999767, 176.5, 194.91999999999825, 183.5, 195.80999999999767, 178.62999999999738, 196.6800000000003, 185.51000000000204, 197.5699999999997, 180.77999999999884, 198.45999999999913, 181.86000000000058, 199.34999999999854, 199.80999999999767, 200.27999999999884, 184.08000000000175, 201.1800000000003, 190.6600000000035, 202.09000000000015, 186.27999999999884, 203, 192.75, 203.9200000000019, 188.51000000000204, 204.84000000000015, 189.63000000000102, 205.76000000000204, 195.90999999999985, 206.70000000000073, 191.88999999999942, 207.63000000000102, 198.0600000000013, 208.58000000000175, 194.1800000000003, 209.52000000000044, 195.3199999999997, 210.45999999999913, 206.13000000000102, 211.4399999999987, 197.65999999999985, 212.38999999999942, 203.51000000000204, 213.36000000000058, 200.01000000000204, 214.33000000000175, 205.72999999999956, 215.3100000000013, 202.38000000000102, 216.29000000000087, 203.5600000000013, 217.27000000000044, 209.09999999999854, 218.26000000000204, 205.97000000000116, 219.25, 211.36999999999898, 220.26000000000204, 208.40000000000146, 221.26000000000204, 209.61999999999898, 222.27000000000044, 222.79000000000087, 223.3100000000013, 212.11000000000058, 224.3199999999997, 217.1800000000003, 225.36000000000058, 214.61000000000058, 226.38000000000102, 219.54000000000087, 227.4300000000003, 217.13000000000102, 228.45999999999913, 218.38999999999942, 229.51000000000204, 223.11999999999898, 230.5600000000013, 220.95000000000073, 231.61999999999898, 225.54000000000087, 232.6899999999987, 223.52999999999884, 233.75, 224.83000000000175, 234.8199999999997, 235.36999999999898, 235.9200000000019, 227.47000000000116, 237, 231.70999999999913, 238.09999999999854, 230.11999999999898, 239.1899999999987, 234.22000000000116, 240.3000000000011, 232.8000000000011, 241.39999999999964, 234.13999999999942, 242.51000000000022, 238.02000000000044, 243.63999999999942, 236.86000000000058, 244.76000000000022, 240.60000000000036, 245.88999999999942, 239.61000000000058, 247.03000000000065, 240.98999999999978, 248.17000000000007, 248.75, 249.32999999999993, 243.79000000000087, 250.47999999999956, 247.14999999999964, 251.63999999999942, 246.61000000000058, 252.8099999999995, 249.8199999999997, 253.97999999999956, 249.45000000000073, 255.15999999999985, 250.88999999999942, 256.34000000000015, 253.86000000000058, 257.53000000000065, 253.78000000000065, 258.72000000000116, 256.60000000000036, 259.9300000000003, 256.7000000000007, 261.1300000000001, 258.15999999999985, 262.35000000000036, 261.85000000000036, 263.5700000000006, 261.1300000000001, 264.8000000000002, 263.5600000000004, 266.03000000000065, 264.1300000000001, 267.27000000000044, 266.3900000000003, 268.52, 267.14999999999964, 269.77, 268.67999999999984, 271.02999999999975, 270.69000000000005, 272.28999999999996, 271.75, 273.5600000000002, 273.60000000000014, 274.84000000000015, 274.85000000000014, 276.1200000000001, 276.41, 277.42, 157.080000000003]\"}'"
      ]
     },
     "execution_count": 5,
     "metadata": {},
     "output_type": "execute_result"
    }
   ],
   "source": [
    "def amort_schedule(paths):\n",
    "    app = xw.App()\n",
    "    wb = app.books.open(paths)\n",
    "    \n",
    "\n",
    "    \n",
    "    \n",
    "    app=xw.apps.active\n",
    "    sht = wb.sheets['Calculator']\n",
    "    \n",
    "    data=pd.read_excel(paths, sheet_name='Calculator')\n",
    "    \n",
    "    mydata=data.iloc[21:782,0:7]\n",
    "    mydata=mydata.reset_index(drop=True)\n",
    "    mydata.columns=[mydata.iloc[0,0:7].replace('\\n', ' ', regex=True)]\n",
    "    mydata.columns=pd.Series(mydata.iloc[0].values).replace('\\n', ' ', regex=True)\n",
    "    mydata.drop(index=0, inplace=True)\n",
    "    mydata.reset_index()\n",
    "    \n",
    "    ind_NAN=[]\n",
    "    for i in range(1,len(pd.Series(mydata['Pmt'].values[1:]))):\n",
    "        if pd.Series(mydata['Pmt'].values[i]).isna().values[0]==True:\n",
    "            ind_NAN.append(i)\n",
    "    mydata=mydata[:ind_NAN[0]]\n",
    "    app.quit()\n",
    "    #return mydata\n",
    "    data_for_json=mydata\n",
    "    keys=pd.Series(data_for_json.columns.values)\n",
    "    \n",
    "    all_keys=list(pd.Series(data_for_json.columns.values))\n",
    "\n",
    "    values=[]\n",
    "    #return all_keys\n",
    "    for each_col in data_for_json.columns:\n",
    "        values.append(str(list(data_for_json[each_col].values.flatten())))\n",
    "    final_data_dict=dict(zip(all_keys, values))\n",
    "    #return final_data_dict\n",
    "\n",
    "\n",
    "    final_dictt=json.dumps(final_data_dict)\n",
    "    app.quit()\n",
    "    return final_dictt\n",
    "amort_schedule(paths)"
   ]
  },
  {
   "cell_type": "code",
   "execution_count": null,
   "metadata": {},
   "outputs": [],
   "source": []
  }
 ],
 "metadata": {
  "kernelspec": {
   "display_name": "Python 3",
   "language": "python",
   "name": "python3"
  },
  "language_info": {
   "codemirror_mode": {
    "name": "ipython",
    "version": 3
   },
   "file_extension": ".py",
   "mimetype": "text/x-python",
   "name": "python",
   "nbconvert_exporter": "python",
   "pygments_lexer": "ipython3",
   "version": "3.7.1"
  }
 },
 "nbformat": 4,
 "nbformat_minor": 2
}
