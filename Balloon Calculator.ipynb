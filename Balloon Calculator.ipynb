{
 "cells": [
  {
   "cell_type": "code",
   "execution_count": 1,
   "metadata": {},
   "outputs": [],
   "source": [
    "paths='C:\\\\Users\\\\MudraCircle\\\\Nehali\\\\balloon-loan-calculator.xlsx'\n",
    "import xlwings as xw\n",
    "import pandas as pd\n",
    "import datetime as dt\n",
    "import json\n",
    "from openpyxl import load_workbook\n",
    "import numpy as np"
   ]
  },
  {
   "cell_type": "code",
   "execution_count": 2,
   "metadata": {},
   "outputs": [
    {
     "data": {
      "text/plain": [
       "(Decimal('50000'),\n",
       " 0.07,\n",
       " 12.0,\n",
       " 36.0,\n",
       " datetime.datetime(2015, 2, 12, 0, 0),\n",
       " 'No')"
      ]
     },
     "execution_count": 2,
     "metadata": {},
     "output_type": "execute_result"
    }
   ],
   "source": [
    "def balloon_loan_input(paths,loan_amt, anual_int_rate,amort_period, number_of_payment, begindate, int_allowed):\n",
    "    app = xw.App()\n",
    "    \n",
    "   \n",
    "    wb = app.books.open(paths)\n",
    "    app=xw.apps.active\n",
    "    sht = wb.sheets['BalloonLoan']\n",
    "    date_time_str = begindate  \n",
    "    begin_date = dt.datetime.strptime(date_time_str, '%Y-%m-%d')\n",
    "    sht.range('D6').value =loan_amt\n",
    "    sht.range('D7').value =(anual_int_rate/100)\n",
    "    sht.range('D8').value =amort_period\n",
    "    sht.range('D9').value = number_of_payment\n",
    "    sht.range('D10').value = begin_date\n",
    "    sht.range('D11').value = int_allowed\n",
    "    \n",
    "    input10=sht.range('D6').value \n",
    "    input20=sht.range('D7').value\n",
    "    input30=sht.range('D8').value\n",
    "    input40=sht.range('D9').value \n",
    "    input50=sht.range('D10').value\n",
    "    input60=sht.range('D11').value\n",
    "    \n",
    "\n",
    "    wb.save()\n",
    "    app.quit()\n",
    "    \n",
    "    return (input10 , input20, input30 , input40 , input50 , input60)\n",
    "balloon_loan_input(paths,50000, 7 , 12 , 36 , '2015-2-12', 'No')"
   ]
  },
  {
   "cell_type": "code",
   "execution_count": 3,
   "metadata": {},
   "outputs": [
    {
     "data": {
      "text/plain": [
       "'{\"Monthly Payment\": 4326.34, \"Balloon Payment, no rounding\": -106778.5725, \"Balloon Payment\": -106778.55, \"Total Payments\": 44643.35, \"Total Interest Paid\": -5356.65}'"
      ]
     },
     "execution_count": 3,
     "metadata": {},
     "output_type": "execute_result"
    }
   ],
   "source": [
    "def daily_int_rate1(paths):\n",
    "    app = xw.App()\n",
    "    wb = app.books.open(paths)\n",
    "    app=xw.apps.active\n",
    "    sht = wb.sheets['BalloonLoan']\n",
    "    name=[sht.range('C15').value , sht.range('C16').value, sht.range('C17').value, sht.range('C19').value,sht.range('C20').value]\n",
    "    output=[float(sht.range('D15').value) , float(sht.range('D16').value) , float(sht.range('D17').value), float(sht.range('D19').value), float(sht.range('D20').value)]\n",
    "    \n",
    "    c=dict(zip(name,output))\n",
    "    C=json.dumps(c)\n",
    "    app.quit()\n",
    "    return C\n",
    "    #return output ,float(output1)\n",
    "daily_int_rate1(paths)"
   ]
  },
  {
   "cell_type": "code",
   "execution_count": 4,
   "metadata": {},
   "outputs": [
    {
     "data": {
      "text/plain": [
       "'{\"Month\": \"[nan, 1, 2, 3, 4, 5, 6, 7, 8, 9, 10, 11, 12, 13, 14, 15, 16, 17, 18, 19, 20, 21, 22, 23, 24, 25, 26, 27, 28, 29, 30, 31, 32, 33, 34, 35, 36]\", \"Date\": \"[datetime.datetime(2015, 2, 12, 0, 0), datetime.datetime(2015, 3, 12, 0, 0), datetime.datetime(2015, 4, 12, 0, 0), datetime.datetime(2015, 5, 12, 0, 0), datetime.datetime(2015, 6, 12, 0, 0), datetime.datetime(2015, 7, 12, 0, 0), datetime.datetime(2015, 8, 12, 0, 0), datetime.datetime(2015, 9, 12, 0, 0), datetime.datetime(2015, 10, 12, 0, 0), datetime.datetime(2015, 11, 12, 0, 0), datetime.datetime(2015, 12, 12, 0, 0), datetime.datetime(2016, 1, 12, 0, 0), datetime.datetime(2016, 2, 12, 0, 0), datetime.datetime(2016, 3, 12, 0, 0), datetime.datetime(2016, 4, 12, 0, 0), datetime.datetime(2016, 5, 12, 0, 0), datetime.datetime(2016, 6, 12, 0, 0), datetime.datetime(2016, 7, 12, 0, 0), datetime.datetime(2016, 8, 12, 0, 0), datetime.datetime(2016, 9, 12, 0, 0), datetime.datetime(2016, 10, 12, 0, 0), datetime.datetime(2016, 11, 12, 0, 0), datetime.datetime(2016, 12, 12, 0, 0), datetime.datetime(2017, 1, 12, 0, 0), datetime.datetime(2017, 2, 12, 0, 0), datetime.datetime(2017, 3, 12, 0, 0), datetime.datetime(2017, 4, 12, 0, 0), datetime.datetime(2017, 5, 12, 0, 0), datetime.datetime(2017, 6, 12, 0, 0), datetime.datetime(2017, 7, 12, 0, 0), datetime.datetime(2017, 8, 12, 0, 0), datetime.datetime(2017, 9, 12, 0, 0), datetime.datetime(2017, 10, 12, 0, 0), datetime.datetime(2017, 11, 12, 0, 0), datetime.datetime(2017, 12, 12, 0, 0), datetime.datetime(2018, 1, 12, 0, 0), datetime.datetime(2018, 2, 12, 0, 0)]\", \"Payment\": \"[\\'-\\', 4326.34, 4326.34, 4326.34, 4326.34, 4326.34, 4326.34, 4326.34, 4326.34, 4326.34, 4326.34, 4326.34, 4326.34, 4326.34, 4326.34, 4326.34, 4326.34, 4326.34, 4326.34, 4326.34, 4326.34, 4326.34, 4326.34, 4326.34, 4326.34, 4326.34, 4326.34, 4326.34, 4326.34, 4326.34, 4326.34, 4326.34, 4326.34, 4326.34, 4326.34, 4326.34, -106778.54999999999]\", \"Interest\": \"[\\'-\\', 291.67, 268.13, 244.46, 220.65, 196.7, 172.61, 148.38, 124.01, 99.49, 74.84, 50.04, 25.09, False, -25.24, -50.62, -76.15, -101.83, -127.67, -153.65, -179.78, -206.07, -232.51, -259.1, -285.85, -312.75, -339.81, -367.03, -394.41, -421.95, -449.65, -477.51, -505.53, -533.71, -562.06, -590.58, -619.26]\", \"Principal\": \"[\\'-\\', 4034.67, 4058.21, 4081.88, 4105.6900000000005, 4129.64, 4153.7300000000005, 4177.96, 4202.33, 4226.85, 4251.5, 4276.3, 4301.25, 4326.34, 4351.58, 4376.96, 4402.49, 4428.17, 4454.01, 4479.99, 4506.12, 4532.41, 4558.85, 4585.4400000000005, 4612.1900000000005, 4639.09, 4666.150000000001, 4693.37, 4720.75, 4748.29, 4775.99, 4803.85, 4831.87, 4860.05, 4888.4, 4916.92, -106159.29]\", \"Balance\": \"[50000, 45965.33, 41907.12, 37825.240000000005, 33719.55, 29589.910000000003, 25436.180000000004, 21258.220000000005, 17055.890000000007, 12829.040000000006, 8577.540000000006, 4301.240000000006, -0.009999999993851816, -4326.349999999994, -8677.929999999993, -13054.889999999992, -17457.37999999999, -21885.54999999999, -26339.55999999999, -30819.54999999999, -35325.66999999999, -39858.07999999999, -44416.929999999986, -49002.36999999999, -53614.55999999999, -58253.649999999994, -62919.799999999996, -67613.17, -72333.92, -77082.20999999999, -81858.2, -86662.05, -91493.92, -96353.97, -101242.37, -106159.29, 0]\"}'"
      ]
     },
     "execution_count": 4,
     "metadata": {},
     "output_type": "execute_result"
    }
   ],
   "source": [
    "def amort_schedule(paths):\n",
    "        app = xw.App()\n",
    "        wb = app.books.open(paths)\n",
    "        app=xw.apps.active\n",
    "        sht = wb.sheets['BalloonLoan']\n",
    "\n",
    "        data=pd.read_excel(paths, sheet_name='BalloonLoan')\n",
    "\n",
    "        mydata=data.iloc[22:782,1:8]\n",
    "        mydata=mydata.reset_index(drop=True)\n",
    "\n",
    "        mydata.columns=[mydata.iloc[0,0:7].replace('\\n', ' ', regex=True)]\n",
    "\n",
    "        mydata.columns=pd.Series(mydata.iloc[0].values).replace('\\n', ' ', regex=True)\n",
    "        mydata.drop(index=0, inplace=True)\n",
    "        mydata.reset_index()\n",
    "\n",
    "        ind_NAN=[]\n",
    "        for i in range(1,len(pd.Series(mydata['Month'].values[1:]))):\n",
    "            if pd.Series(mydata['Month'].values[i]).isna().values[0]==True:\n",
    "                ind_NAN.append(i)\n",
    "        mydata=mydata[:ind_NAN[0]]\n",
    "        data_for_json=mydata\n",
    "\n",
    "        keys=pd.Series(data_for_json.columns.values)\n",
    "        all_keys=list(pd.Series(data_for_json.columns.values))\n",
    "\n",
    "        values=[]\n",
    "        for each_col in data_for_json.columns:\n",
    "            values.append(str(list(data_for_json[each_col].values.flatten())))\n",
    "        final_data_dict=dict(zip(all_keys, values))\n",
    "\n",
    "        final_dictt=json.dumps(final_data_dict)\n",
    "        app.quit()\n",
    "        return final_dictt\n",
    "amort_schedule(paths)"
   ]
  },
  {
   "cell_type": "code",
   "execution_count": 5,
   "metadata": {},
   "outputs": [
    {
     "data": {
      "text/plain": [
       "<Figure size 640x480 with 1 Axes>"
      ]
     },
     "metadata": {},
     "output_type": "display_data"
    }
   ],
   "source": [
    "import matplotlib.pyplot as plt\n",
    "year = [1960, 1970, 1980, 1990, 2000, 2010]\n",
    "pop_pakistan = [44.91, 58.09, 78.07, 107.7, 138.5, 170.6]\n",
    "pop_india = [449.48, 553.57, 696.783, 870.133, 1000.4, 1309.1]\n",
    "plt.plot(year, pop_pakistan, color='g')\n",
    "plt.plot(year, pop_india, color='orange')\n",
    "plt.xlabel('Countries')\n",
    "plt.ylabel('Population in million')\n",
    "plt.title('Pakistan India Population till 2010')\n",
    "plt.show()\n",
    "    "
   ]
  },
  {
   "cell_type": "code",
   "execution_count": 7,
   "metadata": {
    "scrolled": false
   },
   "outputs": [
    {
     "data": {
      "image/png": "[encoded data removed]",
      "text/plain": [
       "<Figure size 1224x576 with 1 Axes>"
      ]
     },
     "metadata": {
      "needs_background": "light"
     },
     "output_type": "display_data"
    }
   ],
   "source": [
    "import matplotlib.pyplot as plt\n",
    "from matplotlib.dates import DateFormatter\n",
    "import matplotlib.dates as mdates\n",
    "def amort_schedule(paths):\n",
    "        app = xw.App()\n",
    "        wb = app.books.open(paths)\n",
    "        app=xw.apps.active\n",
    "        sht = wb.sheets['BalloonLoan']\n",
    "\n",
    "        data=pd.read_excel(paths, sheet_name='BalloonLoan')\n",
    "\n",
    "        mydata=data.iloc[22:782,1:8]\n",
    "        mydata=mydata.reset_index(drop=True)\n",
    "\n",
    "        mydata.columns=[mydata.iloc[0,0:7].replace('\\n', ' ', regex=True)]\n",
    "\n",
    "        mydata.columns=pd.Series(mydata.iloc[0].values).replace('\\n', ' ', regex=True)\n",
    "        mydata.drop(index=0, inplace=True)\n",
    "        mydata.reset_index()\n",
    "\n",
    "        ind_NAN=[]\n",
    "        for i in range(1,len(pd.Series(mydata['Month'].values[1:]))):\n",
    "            if pd.Series(mydata['Month'].values[i]).isna().values[0]==True:\n",
    "                ind_NAN.append(i)\n",
    "        mydata=mydata[:ind_NAN[0]]\n",
    "#         data_for_json=mydata\n",
    "\n",
    "#         keys=pd.Series(data_for_json.columns.values)\n",
    "#         all_keys=list(pd.Series(data_for_json.columns.values))\n",
    "\n",
    "#         values=[]\n",
    "#         for each_col in data_for_json.columns:\n",
    "#             values.append(str(list(data_for_json[each_col].values.flatten())))\n",
    "        \n",
    "        x=mydata['Date'].iloc[1:6].values\n",
    "        y=mydata['Balance'].iloc[1:6].values\n",
    "        y1=mydata['Principal'].iloc[1:6].values\n",
    "        y2=mydata['Interest'].iloc[1:6].values\n",
    "        \n",
    "        \n",
    "        fig, ax = plt.subplots(figsize=(17,8))\n",
    "        plt.plot(x,y, color='g')\n",
    "        plt.plot(x,y1, color='orange')\n",
    "        plt.plot(x,y2, color='b')\n",
    "        ax.xaxis.set_major_locator(mdates.WeekdayLocator())\n",
    "        #set major ticks format\n",
    "        ax.xaxis.set_major_formatter(mdates.DateFormatter('%d/%m/%Y'))\n",
    "        plt.xlabel('Date')\n",
    "        plt.ylabel('Balance')\n",
    "        plt.title('Pakistan India Population till 2010')\n",
    "        plt.gcf().autofmt_xdate()\n",
    "        graph=plt.show()\n",
    "\n",
    "        \n",
    "        app.quit()\n",
    "        return graph\n",
    "amort_schedule(paths)"
   ]
  },
  {
   "cell_type": "code",
   "execution_count": null,
   "metadata": {},
   "outputs": [],
   "source": []
  },
  {
   "cell_type": "code",
   "execution_count": null,
   "metadata": {},
   "outputs": [],
   "source": []
  }
 ],
 "metadata": {
  "kernelspec": {
   "display_name": "Python 3",
   "language": "python",
   "name": "python3"
  },
  "language_info": {
   "codemirror_mode": {
    "name": "ipython",
    "version": 3
   },
   "file_extension": ".py",
   "mimetype": "text/x-python",
   "name": "python",
   "nbconvert_exporter": "python",
   "pygments_lexer": "ipython3",
   "version": "3.7.1"
  }
 },
 "nbformat": 4,
 "nbformat_minor": 2
}
