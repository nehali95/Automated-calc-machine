{
 "cells": [
  {
   "cell_type": "code",
   "execution_count": 2,
   "metadata": {},
   "outputs": [],
   "source": [
    "paths='C:\\\\Users\\\\MudraCircle\\\\Nehali\\\\credit-card-payoff-calculator.xlsx'\n",
    "import xlwings as xw\n",
    "import pandas as pd\n",
    "import datetime as dt\n",
    "import json\n",
    "from openpyxl import load_workbook\n",
    "import numpy as np"
   ]
  },
  {
   "cell_type": "code",
   "execution_count": 5,
   "metadata": {},
   "outputs": [
    {
     "data": {
      "text/plain": [
       "(5000.0, 0.05)"
      ]
     },
     "execution_count": 5,
     "metadata": {},
     "output_type": "execute_result"
    }
   ],
   "source": [
    "def creditcard_info(paths,current_bal, int_rate):\n",
    "    app = xw.App()\n",
    "    wb = app.books.open(paths)\n",
    "    app=xw.apps.active\n",
    "    sht = wb.sheets['CreditCardPayoff']\n",
    "    \n",
    "    sht.range('C6').value =current_bal\n",
    "    sht.range('C7').value =(int_rate/100)\n",
    "    input10=sht.range('C6').value\n",
    "    input20=sht.range('C7').value \n",
    "    wb.save()\n",
    "    app.quit()\n",
    "    \n",
    "    return (float(input10) , float(input20))\n",
    "creditcard_info(paths,5000,5)"
   ]
  },
  {
   "cell_type": "code",
   "execution_count": 9,
   "metadata": {},
   "outputs": [
    {
     "data": {
      "text/plain": [
       "'{\"Interest_only_payment\": 20.8333}'"
      ]
     },
     "execution_count": 9,
     "metadata": {},
     "output_type": "execute_result"
    }
   ],
   "source": [
    "def creditcard_info_out(paths):\n",
    "    app = xw.App()\n",
    "    wb = app.books.open(paths)\n",
    "    app=xw.apps.active\n",
    "    sht = wb.sheets['CreditCardPayoff']\n",
    "    name=['Interest_only_payment']\n",
    "    out=[float(sht.range('C8').value)] \n",
    "    c=dict(zip(name,out))\n",
    "    C=json.dumps(c)\n",
    "    app.quit()\n",
    "    return C\n",
    "creditcard_info_out(paths)"
   ]
  },
  {
   "cell_type": "code",
   "execution_count": 10,
   "metadata": {},
   "outputs": [
    {
     "data": {
      "text/plain": [
       "5000.0"
      ]
     },
     "execution_count": 10,
     "metadata": {},
     "output_type": "execute_result"
    }
   ],
   "source": [
    "def months_to_payof(paths,monthly_payment):\n",
    "    app = xw.App()\n",
    "    wb = app.books.open(paths)\n",
    "    app=xw.apps.active\n",
    "    sht = wb.sheets['CreditCardPayoff']\n",
    "    \n",
    "    sht.range('C12').value =monthly_payment\n",
    "    input10=sht.range('C12').value\n",
    "    wb.save()\n",
    "    app.quit()\n",
    "    \n",
    "    return (float(input10))\n",
    "months_to_payof(paths,5000)\n",
    "    "
   ]
  },
  {
   "cell_type": "code",
   "execution_count": 13,
   "metadata": {},
   "outputs": [
    {
     "data": {
      "text/plain": [
       "'{\"Months_to_payoff\": 45.86083238054531, \"years\": \"(3.82 years)\", \"total_interest\": 503.2999}'"
      ]
     },
     "execution_count": 13,
     "metadata": {},
     "output_type": "execute_result"
    }
   ],
   "source": [
    "def months_to_payof_out(paths):\n",
    "    app = xw.App()\n",
    "    wb = app.books.open(paths)\n",
    "    app=xw.apps.active\n",
    "    sht = wb.sheets['CreditCardPayoff']\n",
    "    name=['Months_to_payoff','years','total_interest']\n",
    "    out=[float(sht.range('C15').value),(sht.range('C16').value),float(sht.range('C17').value)] \n",
    "    c=dict(zip(name,out))\n",
    "    C=json.dumps(c)\n",
    "    app.quit()\n",
    "    return C\n",
    "months_to_payof_out(paths)"
   ]
  },
  {
   "cell_type": "code",
   "execution_count": 15,
   "metadata": {},
   "outputs": [
    {
     "data": {
      "text/plain": [
       "36.0"
      ]
     },
     "execution_count": 15,
     "metadata": {},
     "output_type": "execute_result"
    }
   ],
   "source": [
    "def monthly_payment(paths,payoff_goal):\n",
    "    app = xw.App()\n",
    "    wb = app.books.open(paths)\n",
    "    app=xw.apps.active\n",
    "    sht = wb.sheets['CreditCardPayoff']\n",
    "    \n",
    "    sht.range('C21').value =payoff_goal\n",
    "    input10=sht.range('C21').value\n",
    "    wb.save()\n",
    "    app.quit()\n",
    "    \n",
    "    return (float(input10))\n",
    "monthly_payment(paths,36)"
   ]
  },
  {
   "cell_type": "code",
   "execution_count": 16,
   "metadata": {},
   "outputs": [
    {
     "data": {
      "text/plain": [
       "'{\"Monthly_payment\": 149.8545, \"total_interest\": 394.7615}'"
      ]
     },
     "execution_count": 16,
     "metadata": {},
     "output_type": "execute_result"
    }
   ],
   "source": [
    "def monthly_payment_out(paths):\n",
    "    app = xw.App()\n",
    "    wb = app.books.open(paths)\n",
    "    app=xw.apps.active\n",
    "    sht = wb.sheets['CreditCardPayoff']\n",
    "    name=['Monthly_payment','total_interest']\n",
    "    out=[float(sht.range('C24').value),float(sht.range('C25').value)] \n",
    "    c=dict(zip(name,out))\n",
    "    C=json.dumps(c)\n",
    "    app.quit()\n",
    "    return C\n",
    "monthly_payment_out(paths)"
   ]
  },
  {
   "cell_type": "code",
   "execution_count": null,
   "metadata": {},
   "outputs": [],
   "source": []
  }
 ],
 "metadata": {
  "kernelspec": {
   "display_name": "Python 3",
   "language": "python",
   "name": "python3"
  },
  "language_info": {
   "codemirror_mode": {
    "name": "ipython",
    "version": 3
   },
   "file_extension": ".py",
   "mimetype": "text/x-python",
   "name": "python",
   "nbconvert_exporter": "python",
   "pygments_lexer": "ipython3",
   "version": "3.7.1"
  }
 },
 "nbformat": 4,
 "nbformat_minor": 2
}
