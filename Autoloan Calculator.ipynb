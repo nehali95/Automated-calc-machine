{
 "cells": [
  {
   "cell_type": "code",
   "execution_count": 1,
   "metadata": {},
   "outputs": [],
   "source": [
    "paths='C:\\\\Users\\\\MudraCircle\\\\Nehali\\\\auto-loan-calculator.xlsx'\n",
    "import xlwings as xw\n",
    "import pandas as pd\n",
    "import datetime as dt\n",
    "import json\n",
    "from openpyxl import load_workbook\n",
    "import numpy as np\n",
    "import datetime"
   ]
  },
  {
   "cell_type": "code",
   "execution_count": 73,
   "metadata": {},
   "outputs": [
    {
     "data": {
      "text/plain": [
       "(50000.0, 10.0, 0.05, 10.0)"
      ]
     },
     "execution_count": 73,
     "metadata": {},
     "output_type": "execute_result"
    }
   ],
   "source": [
    "def purchase_price(paths,saleprice_options, destination_charge, title_transfer_fee, other_taxable_charge):\n",
    "    app = xw.App()\n",
    "    wb = app.books.open(paths)\n",
    "    app=xw.apps.active\n",
    "    sht = wb.sheets['AutoLoanCalculator']\n",
    "    \n",
    "    sht.range('D5').value =saleprice_options\n",
    "    sht.range('D6').value =destination_charge\n",
    "    sht.range('D7').value =(title_transfer_fee/100)\n",
    "    sht.range('D8').value =other_taxable_charge\n",
    "    \n",
    "    \n",
    "    input10=sht.range('D5').value\n",
    "    input20=sht.range('D6').value \n",
    "    input30=sht.range('D7').value\n",
    "    input40=sht.range('D8').value\n",
    "    \n",
    "    \n",
    "\n",
    "    wb.save()\n",
    "    app.quit()\n",
    "    \n",
    "    return (float(input10) , float(input20), float(input30) , float(input40))\n",
    "purchase_price(paths,50000, 10, 5, 10)"
   ]
  },
  {
   "cell_type": "code",
   "execution_count": 74,
   "metadata": {},
   "outputs": [
    {
     "data": {
      "text/plain": [
       "'{\"Purchase Price\": 50020.05}'"
      ]
     },
     "execution_count": 74,
     "metadata": {},
     "output_type": "execute_result"
    }
   ],
   "source": [
    "def purchase_price_out(paths):\n",
    "    app = xw.App()\n",
    "    wb = app.books.open(paths)\n",
    "    app=xw.apps.active\n",
    "    sht = wb.sheets['AutoLoanCalculator']\n",
    "    names=[sht.range('C9').value]\n",
    "    output=[float(sht.range('D9').value)]\n",
    "    c=dict(zip(names,output))\n",
    "    C=json.dumps(c)\n",
    "    app.quit()\n",
    "    return C\n",
    "purchase_price_out(paths)"
   ]
  },
  {
   "cell_type": "code",
   "execution_count": 75,
   "metadata": {},
   "outputs": [
    {
     "data": {
      "text/plain": [
       "(False, True, 0.05)"
      ]
     },
     "execution_count": 75,
     "metadata": {},
     "output_type": "execute_result"
    }
   ],
   "source": [
    "def State_sales_tax(paths,trade_in_tax_deductable,cash_rebate, state_sales_tax):\n",
    "    app = xw.App()\n",
    "    wb = app.books.open(paths)\n",
    "    app=xw.apps.active\n",
    "    sht = wb.sheets['AutoLoanCalculator']\n",
    "    \n",
    "    sht.range('D12').value =trade_in_tax_deductable\n",
    "    sht.range('D13').value =cash_rebate\n",
    "    sht.range('D14').value =(int(state_sales_tax)/100)\n",
    "    \n",
    "    input10=sht.range('D12').value\n",
    "    input20=sht.range('D13').value \n",
    "    input30=sht.range('D14').value\n",
    "    wb.save()\n",
    "    app.quit()\n",
    "    \n",
    "    return (input10, input20, float(input30) )\n",
    "State_sales_tax(paths,'FALSE', 'TRUE', 5)\n",
    "    "
   ]
  },
  {
   "cell_type": "code",
   "execution_count": 76,
   "metadata": {},
   "outputs": [
    {
     "data": {
      "text/plain": [
       "'{\"Net_Taxable\": 49970.05, \"State_Sales_Excise_Tax\": 2498.5025}'"
      ]
     },
     "execution_count": 76,
     "metadata": {},
     "output_type": "execute_result"
    }
   ],
   "source": [
    "def State_sales_tax(paths):\n",
    "    app = xw.App()\n",
    "    wb = app.books.open(paths)\n",
    "    app=xw.apps.active\n",
    "    sht = wb.sheets['AutoLoanCalculator']\n",
    "    names=['Net_Taxable', 'State_Sales_Excise_Tax']\n",
    "    output=[float(sht.range('D15').value),float(sht.range('D16').value)]\n",
    "    c=dict(zip(names,output))\n",
    "    C=json.dumps(c)\n",
    "    app.quit()\n",
    "    return C\n",
    "State_sales_tax(paths)   \n",
    "    "
   ]
  },
  {
   "cell_type": "code",
   "execution_count": 77,
   "metadata": {},
   "outputs": [
    {
     "data": {
      "text/plain": [
       "(10.0, 25.0, 500.0, 5.0, 5.0, 5.0, 5.0, 5.0, 5.0)"
      ]
     },
     "execution_count": 77,
     "metadata": {},
     "output_type": "execute_result"
    }
   ],
   "source": [
    "def Non_taxable_fees(paths,registration,late_regi_fee,service_contact, special_plate_fee, admin_fee, transaction_fee, late_title_transfer_fee, Dupliacte_titl_fee, other_notax_fee):\n",
    "    app = xw.App()\n",
    "    wb = app.books.open(paths)\n",
    "    app=xw.apps.active\n",
    "    sht = wb.sheets['AutoLoanCalculator']\n",
    "    \n",
    "    sht.range('D19').value =registration\n",
    "    sht.range('D20').value =late_regi_fee\n",
    "    sht.range('D21').value =service_contact\n",
    "    sht.range('D22').value =special_plate_fee\n",
    "    sht.range('D23').value =admin_fee\n",
    "    sht.range('D24').value =transaction_fee\n",
    "    sht.range('D25').value =late_title_transfer_fee\n",
    "    sht.range('D26').value =Dupliacte_titl_fee\n",
    "    sht.range('D27').value =other_notax_fee\n",
    "    input10=sht.range('D19').value\n",
    "    input20=sht.range('D20').value \n",
    "    input30=sht.range('D21').value\n",
    "    input40= sht.range('D22').value\n",
    "    input50= sht.range('D23').value\n",
    "    input60=sht.range('D24').value\n",
    "    input70=sht.range('D25').value\n",
    "    input80=sht.range('D26').value\n",
    "    input90=sht.range('D27').value\n",
    "\n",
    "    \n",
    "    wb.save()\n",
    "    app.quit()\n",
    "    \n",
    "    return (float(input10), float(input20), float(input30), float(input40), float(input50), float(input60), float(input70), float(input80), float(input90))\n",
    "Non_taxable_fees(paths,10,25,500,5,5,5,5,5,5)\n"
   ]
  },
  {
   "cell_type": "code",
   "execution_count": 78,
   "metadata": {},
   "outputs": [
    {
     "data": {
      "text/plain": [
       "(500.0, 5000.0, 500.0, 50.0)"
      ]
     },
     "execution_count": 78,
     "metadata": {},
     "output_type": "execute_result"
    }
   ],
   "source": [
    "def Loan_amount(paths,unpaid_loan_bal, less_down_pay, less_value_oftrade_in, less_cash_rebate):\n",
    "    app = xw.App()\n",
    "    wb = app.books.open(paths)\n",
    "    app=xw.apps.active\n",
    "    sht = wb.sheets['AutoLoanCalculator']\n",
    "    \n",
    "    sht.range('D32').value =unpaid_loan_bal\n",
    "    sht.range('D34').value =less_down_pay\n",
    "    sht.range('D35').value =less_value_oftrade_in\n",
    "    sht.range('D36').value = less_cash_rebate\n",
    "    input10=sht.range('D32').value\n",
    "    input20=sht.range('D34').value \n",
    "    input30=sht.range('D35').value\n",
    "    input40=sht.range('D36').value\n",
    "    wb.save()\n",
    "    app.quit()\n",
    "    \n",
    "    return (float(input10), float(input20), float(input30) , float(input40))\n",
    "Loan_amount(paths,500,5000,500,50)"
   ]
  },
  {
   "cell_type": "code",
   "execution_count": 79,
   "metadata": {},
   "outputs": [
    {
     "data": {
      "text/plain": [
       "'{\"total_non_Taxable_fee\": 565.0, \"total_loan_amt\": 48033.5525}'"
      ]
     },
     "execution_count": 79,
     "metadata": {},
     "output_type": "execute_result"
    }
   ],
   "source": [
    "def Non_taxable_loan_out(paths):\n",
    "    app = xw.App()\n",
    "    wb = app.books.open(paths)\n",
    "    app=xw.apps.active\n",
    "    sht = wb.sheets['AutoLoanCalculator']\n",
    "    names=['total_non_Taxable_fee', 'total_loan_amt']\n",
    "    output=[float(sht.range('D28').value),float(sht.range('D38').value)]\n",
    "    c=dict(zip(names,output))\n",
    "    C=json.dumps(c)\n",
    "    app.quit()\n",
    "    return C\n",
    "Non_taxable_loan_out(paths) "
   ]
  },
  {
   "cell_type": "code",
   "execution_count": 6,
   "metadata": {},
   "outputs": [
    {
     "data": {
      "text/plain": [
       "(50000.0, 10.0, 5.0, datetime.datetime(2015, 12, 5, 0, 0), 'Monthly')"
      ]
     },
     "execution_count": 6,
     "metadata": {},
     "output_type": "execute_result"
    }
   ],
   "source": [
    "def payment_calc_input(paths, autoloan_amt, anual_int_rate, term_loan_in_yr, first_payment_date,freq_of_payment):\n",
    "    app = xw.App()\n",
    "    wb = app.books.open(paths)\n",
    "    app=xw.apps.active\n",
    "    sht = wb.sheets['PaymentCalculator']\n",
    "    date_time_str = first_payment_date\n",
    "    date_time_obj = dt.datetime.strptime(date_time_str, '%Y-%m-%d')\n",
    "    sht.range('D5').value = autoloan_amt\n",
    "    sht.range('D6').value = anual_int_rate\n",
    "    sht.range('D7').value =term_loan_in_yr\n",
    "    sht.range('D8').value = date_time_obj \n",
    "    sht.range('D9').value= freq_of_payment\n",
    "    \n",
    "    input10=sht.range('D5').value\n",
    "    input20=sht.range('D6').value \n",
    "    input30=sht.range('D7').value\n",
    "    input40=sht.range('D8').value\n",
    "    input50=sht.range('D9').value\n",
    "    \n",
    "    \n",
    "\n",
    "    wb.save()\n",
    "    app.quit()\n",
    "    \n",
    "    return (float(input10) , float(input20), float(input30) , input40, input50)\n",
    "payment_calc_input(paths,50000, 10, 5, '2015-12-5', 'Monthly' )"
   ]
  },
  {
   "cell_type": "code",
   "execution_count": 81,
   "metadata": {},
   "outputs": [
    {
     "data": {
      "text/plain": [
       "'{\"Number_of_Payments\": 60.0, \"Rate_per_period\": 0.8333333333333334, \"Payment_per_period\": 41666.67, \"Total_Interest\": 2450000.0, \"Total_Payments\": 2500000.0}'"
      ]
     },
     "execution_count": 81,
     "metadata": {},
     "output_type": "execute_result"
    }
   ],
   "source": [
    "def payment_calc_summary(paths):\n",
    "    app = xw.App()\n",
    "    wb = app.books.open(paths)\n",
    "    app=xw.apps.active\n",
    "    sht = wb.sheets['PaymentCalculator']\n",
    "    names=['Number_of_Payments', 'Rate_per_period','Payment_per_period','Total_Interest','Total_Payments']\n",
    "    output=[float(sht.range('D12').value),float(sht.range('D13').value),float(sht.range('D14').value),float(sht.range('D15').value),float(sht.range('D16').value)]\n",
    "    c=dict(zip(names,output))\n",
    "    C=json.dumps(c)\n",
    "    app.quit()\n",
    "    return C\n",
    "payment_calc_summary(paths) "
   ]
  },
  {
   "cell_type": "code",
   "execution_count": 82,
   "metadata": {},
   "outputs": [
    {
     "data": {
      "text/plain": [
       "'{\"No.\": \"[nan, 1, 2, 3, 4, 5, 6, 7, 8, 9, 10, 11, 12, 13, 14, 15, 16, 17, 18, 19, 20, 21, 22, 23, 24, 25, 26, 27, 28, 29, 30, 31, 32, 33, 34, 35, 36, 37, 38, 39, 40, 41, 42, 43, 44, 45, 46, 47, 48, 49, 50, 51, 52, 53, 54, 55, 56, 57, 58, 59, 60]\", \"Due Date\": \"[nan, datetime.datetime(2015, 12, 5, 0, 0), datetime.datetime(2016, 1, 5, 0, 0), datetime.datetime(2016, 2, 5, 0, 0), datetime.datetime(2016, 3, 5, 0, 0), datetime.datetime(2016, 4, 5, 0, 0), datetime.datetime(2016, 5, 5, 0, 0), datetime.datetime(2016, 6, 5, 0, 0), datetime.datetime(2016, 7, 5, 0, 0), datetime.datetime(2016, 8, 5, 0, 0), datetime.datetime(2016, 9, 5, 0, 0), datetime.datetime(2016, 10, 5, 0, 0), datetime.datetime(2016, 11, 5, 0, 0), datetime.datetime(2016, 12, 5, 0, 0), datetime.datetime(2017, 1, 5, 0, 0), datetime.datetime(2017, 2, 5, 0, 0), datetime.datetime(2017, 3, 5, 0, 0), datetime.datetime(2017, 4, 5, 0, 0), datetime.datetime(2017, 5, 5, 0, 0), datetime.datetime(2017, 6, 5, 0, 0), datetime.datetime(2017, 7, 5, 0, 0), datetime.datetime(2017, 8, 5, 0, 0), datetime.datetime(2017, 9, 5, 0, 0), datetime.datetime(2017, 10, 5, 0, 0), datetime.datetime(2017, 11, 5, 0, 0), datetime.datetime(2017, 12, 5, 0, 0), datetime.datetime(2018, 1, 5, 0, 0), datetime.datetime(2018, 2, 5, 0, 0), datetime.datetime(2018, 3, 5, 0, 0), datetime.datetime(2018, 4, 5, 0, 0), datetime.datetime(2018, 5, 5, 0, 0), datetime.datetime(2018, 6, 5, 0, 0), datetime.datetime(2018, 7, 5, 0, 0), datetime.datetime(2018, 8, 5, 0, 0), datetime.datetime(2018, 9, 5, 0, 0), datetime.datetime(2018, 10, 5, 0, 0), datetime.datetime(2018, 11, 5, 0, 0), datetime.datetime(2018, 12, 5, 0, 0), datetime.datetime(2019, 1, 5, 0, 0), datetime.datetime(2019, 2, 5, 0, 0), datetime.datetime(2019, 3, 5, 0, 0), datetime.datetime(2019, 4, 5, 0, 0), datetime.datetime(2019, 5, 5, 0, 0), datetime.datetime(2019, 6, 5, 0, 0), datetime.datetime(2019, 7, 5, 0, 0), datetime.datetime(2019, 8, 5, 0, 0), datetime.datetime(2019, 9, 5, 0, 0), datetime.datetime(2019, 10, 5, 0, 0), datetime.datetime(2019, 11, 5, 0, 0), datetime.datetime(2019, 12, 5, 0, 0), datetime.datetime(2020, 1, 5, 0, 0), datetime.datetime(2020, 2, 5, 0, 0), datetime.datetime(2020, 3, 5, 0, 0), datetime.datetime(2020, 4, 5, 0, 0), datetime.datetime(2020, 5, 5, 0, 0), datetime.datetime(2020, 6, 5, 0, 0), datetime.datetime(2020, 7, 5, 0, 0), datetime.datetime(2020, 8, 5, 0, 0), datetime.datetime(2020, 9, 5, 0, 0), datetime.datetime(2020, 10, 5, 0, 0), datetime.datetime(2020, 11, 5, 0, 0)]\", \"Payment Due\": \"[nan, 41666.67, 41666.67, 41666.67, 41666.67, 41666.67, 41666.67, 41666.67, 41666.67, 41666.67, 41666.67, 41666.67, 41666.67, 41666.67, 41666.67, 41666.67, 41666.67, 41666.67, 41666.67, 41666.67, 41666.67, 41666.67, 41666.67, 41666.67, 41666.67, 41666.67, 41666.67, 41666.67, 41666.67, 41666.67, 41666.67, 41666.67, 41666.67, 41666.67, 41666.67, 41666.67, 41666.67, 41666.67, 41666.67, 41666.67, 41666.67, 41666.67, 41666.67, 41666.67, 41666.67, 41666.67, 41666.67, 41666.67, 41666.67, 41666.67, 41666.67, 41666.67, 41666.67, 41666.67, 41666.67, 41666.67, 41666.67, 41666.67, 41666.67, 41666.67, 91666.67]\", \"Additional Payment\": \"[nan, 0, 0, 0, 0, 0, 0, 0, 0, 0, 0, 0, 0, 0, 0, 0, 0, 0, 0, 0, 0, 0, 0, 0, 0, 0, 0, 0, 0, 0, 0, 0, 0, 0, 0, 0, 0, 0, 0, 0, 0, 0, 0, 0, 0, 0, 0, 0, 0, 0, 0, 0, 0, 0, 0, 0, 0, 0, 0, 0, 0]\", \"Interest\": \"[nan, 41666.67, 41666.67, 41666.67, 41666.67, 41666.67, 41666.67, 41666.67, 41666.67, 41666.67, 41666.67, 41666.67, 41666.67, 41666.67, 41666.67, 41666.67, 41666.67, 41666.67, 41666.67, 41666.67, 41666.67, 41666.67, 41666.67, 41666.67, 41666.67, 41666.67, 41666.67, 41666.67, 41666.67, 41666.67, 41666.67, 41666.67, 41666.67, 41666.67, 41666.67, 41666.67, 41666.67, 41666.67, 41666.67, 41666.67, 41666.67, 41666.67, 41666.67, 41666.67, 41666.67, 41666.67, 41666.67, 41666.67, 41666.67, 41666.67, 41666.67, 41666.67, 41666.67, 41666.67, 41666.67, 41666.67, 41666.67, 41666.67, 41666.67, 41666.67, 41666.67]\", \"Principal\": \"[nan, 0, 0, 0, 0, 0, 0, 0, 0, 0, 0, 0, 0, 0, 0, 0, 0, 0, 0, 0, 0, 0, 0, 0, 0, 0, 0, 0, 0, 0, 0, 0, 0, 0, 0, 0, 0, 0, 0, 0, 0, 0, 0, 0, 0, 0, 0, 0, 0, 0, 0, 0, 0, 0, 0, 0, 0, 0, 0, 0, 50000]\", \"Balance\": \"[50000, 50000, 50000, 50000, 50000, 50000, 50000, 50000, 50000, 50000, 50000, 50000, 50000, 50000, 50000, 50000, 50000, 50000, 50000, 50000, 50000, 50000, 50000, 50000, 50000, 50000, 50000, 50000, 50000, 50000, 50000, 50000, 50000, 50000, 50000, 50000, 50000, 50000, 50000, 50000, 50000, 50000, 50000, 50000, 50000, 50000, 50000, 50000, 50000, 50000, 50000, 50000, 50000, 50000, 50000, 50000, 50000, 50000, 50000, 50000, 0]\"}'"
      ]
     },
     "execution_count": 82,
     "metadata": {},
     "output_type": "execute_result"
    }
   ],
   "source": [
    "def amort_schedule(paths):\n",
    "    app = xw.App()\n",
    "    wb = app.books.open(paths)\n",
    "    app=xw.apps.active\n",
    "    sht = wb.sheets['PaymentCalculator']\n",
    "    \n",
    "    data=pd.read_excel(paths, sheet_name='PaymentCalculator')\n",
    "    \n",
    "    mydata=data.iloc[17:782,0:7]\n",
    "    mydata=mydata.reset_index(drop=True)\n",
    "    \n",
    "    mydata.columns=[mydata.iloc[0,0:7].replace('\\n', ' ', regex=True)]\n",
    "    \n",
    "    mydata.columns=pd.Series(mydata.iloc[0].values).replace('\\n', ' ', regex=True)\n",
    "    mydata.drop(index=0, inplace=True)\n",
    "    mydata.reset_index()\n",
    "    \n",
    "    ind_NAN=[]\n",
    "    for i in range(1,len(pd.Series(mydata['No.'].values[1:]))):\n",
    "        if pd.Series(mydata['No.'].values[i]).isna().values[0]==True:\n",
    "            ind_NAN.append(i)\n",
    "    mydata=mydata[:ind_NAN[0]]\n",
    "    data_for_json=mydata\n",
    "    \n",
    "    keys=pd.Series(data_for_json.columns.values)\n",
    "    all_keys=list(pd.Series(data_for_json.columns.values))\n",
    "    \n",
    "    values=[]\n",
    "    for each_col in data_for_json.columns:\n",
    "        values.append(str(list(data_for_json[each_col].values.flatten())))\n",
    "    final_data_dict=dict(zip(all_keys, values))\n",
    "    \n",
    "    final_dictt=json.dumps(final_data_dict)\n",
    "    app.quit()\n",
    "    return final_dictt\n",
    "amort_schedule(paths)"
   ]
  },
  {
   "cell_type": "code",
   "execution_count": 83,
   "metadata": {},
   "outputs": [],
   "source": [
    "def myconverter(o):\n",
    "    if isinstance(o, datetime.datetime):\n",
    "        return o.__str__()"
   ]
  },
  {
   "cell_type": "code",
   "execution_count": 95,
   "metadata": {},
   "outputs": [
    {
     "data": {
      "text/plain": [
       "'{\"Total_Payments\": 2550000.2, \"Total_Interest\": 2500000.2, \"Reduced_Interest\": \"None\", \"Number_of_Payments\": 60.0, \"Last_Payment_Date\": \"2020-11-05 00:00:00\"}'"
      ]
     },
     "execution_count": 95,
     "metadata": {},
     "output_type": "execute_result"
    }
   ],
   "source": [
    "def payment_calc_summary(paths):\n",
    "    app = xw.App()\n",
    "    wb = app.books.open(paths)\n",
    "    app=xw.apps.active\n",
    "    sht = wb.sheets['PaymentCalculator']\n",
    "    names=['Total_Payments', 'Total_Interest','Reduced_Interest','Number_of_Payments','Last_Payment_Date']\n",
    "    output=[float(sht.range('G5').value),float(sht.range('G6').value),(sht.range('G7').value),float(sht.range('G8').value),sht.range('G9').value]\n",
    "    c=dict(zip(names,output))\n",
    "    def myconverter(o):\n",
    "        if isinstance(o, datetime.datetime):\n",
    "            return o.__str__()\n",
    "    C=json.dumps(c,default = myconverter) #TO READ DATETIME IN JSON\n",
    "    app.quit()\n",
    "    return C\n",
    "payment_calc_summary(paths) "
   ]
  },
  {
   "cell_type": "code",
   "execution_count": 86,
   "metadata": {},
   "outputs": [
    {
     "data": {
      "text/plain": [
       "'{\"Annual Interest Rate\": \"[0.02, 0.03, 0.04, 0.05, 0.06, 0.07, 0.08, 0.09, 0.1]\", \"Total Paid\": \"[52583.4, 53905.799999999996, 55249.8, 56613.6, 57998.4, 59403.6, 60829.200000000004, 62275.200000000004, 63740.99999999999]\", \"Payment\": \"[876.39, 898.43, 920.83, 943.56, 966.64, 990.06, 1013.82, 1037.92, 1062.35]\", \"Total Interest\": \"[2583.4000000000015, 3905.7999999999956, 5249.800000000003, 6613.5999999999985, 7998.4000000000015, 9403.599999999999, 10829.200000000004, 12275.200000000004, 13740.999999999993]\"}'"
      ]
     },
     "execution_count": 86,
     "metadata": {},
     "output_type": "execute_result"
    }
   ],
   "source": [
    "\n",
    "def Anual_int_rate(paths):\n",
    "    app = xw.App()\n",
    "    wb = app.books.open(paths)\n",
    "    app=xw.apps.active\n",
    "    sht = wb.sheets['LoanComparisons']\n",
    "    \n",
    "\n",
    "    data=pd.read_excel(paths, sheet_name='LoanComparisons')\n",
    "    \n",
    "    mydata=data.iloc[6:18,0:4]\n",
    "    mydata=mydata.reset_index(drop=True)\n",
    "    \n",
    "    mydata.columns=[mydata.iloc[0,0:4].replace('\\n', ' ', regex=True)]\n",
    "    \n",
    "    mydata.columns=pd.Series(mydata.iloc[0].values).replace('\\n', ' ', regex=True)\n",
    "    mydata.drop(index=0, inplace=True)\n",
    "    mydata.reset_index()\n",
    "    \n",
    "    ind_NAN=[]\n",
    "    for i in range(1,len(pd.Series(mydata['Annual Interest Rate'].values[1:]))):\n",
    "        if pd.Series(mydata['Annual Interest Rate'].values[i]).isna().values[0]==True:\n",
    "            ind_NAN.append(i)\n",
    "    mydata=mydata[:ind_NAN[0]]\n",
    "    data_for_json=mydata\n",
    "    \n",
    "    keys=pd.Series(data_for_json.columns.values)\n",
    "    all_keys=list(pd.Series(data_for_json.columns.values))\n",
    "    \n",
    "    values=[]\n",
    "    for each_col in data_for_json.columns:\n",
    "        values.append(str(list(data_for_json[each_col].values.flatten())))\n",
    "    final_data_dict=dict(zip(all_keys, values))\n",
    "    \n",
    "    final_dictt=json.dumps(final_data_dict)\n",
    "    app.quit()\n",
    "    return final_dictt\n",
    "    \n",
    "    \n",
    "\n",
    "    \n",
    "Anual_int_rate(paths)"
   ]
  },
  {
   "cell_type": "code",
   "execution_count": 87,
   "metadata": {},
   "outputs": [
    {
     "data": {
      "text/plain": [
       "'{\"of_Payments\": \"[6, 12, 18, 24, 30, 36, 42, 48, 54, 60, 66, 72]\", \"Total Paid\": \"[256762.14, 500347.07999999996, 750013.74, 1000000.56, 1250000.0999999999, 1500000.1199999999, 1750000.14, 2000000.16, 2250000.1799999997, 2500000.1999999997, 2750000.2199999997, 3000000.2399999998]\", \"Payment\": \"[42793.69, 41695.59, 41667.43, 41666.69, 41666.67, 41666.67, 41666.67, 41666.67, 41666.67, 41666.67, 41666.67, 41666.67]\", \"Total Interest\": \"[206762.14, 450347.07999999996, 700013.74, 950000.56, 1200000.0999999999, 1450000.1199999999, 1700000.14, 1950000.16, 2200000.1799999997, 2450000.1999999997, 2700000.2199999997, 2950000.2399999998]\"}'"
      ]
     },
     "execution_count": 87,
     "metadata": {},
     "output_type": "execute_result"
    }
   ],
   "source": [
    "def of_payment(paths):\n",
    "    app = xw.App()\n",
    "    wb = app.books.open(paths)\n",
    "    app=xw.apps.active\n",
    "    sht = wb.sheets['LoanComparisons']\n",
    "    \n",
    "\n",
    "    data=pd.read_excel(paths, sheet_name='LoanComparisons')\n",
    "    \n",
    "    mydata=data.iloc[18:33,0:4]\n",
    "    mydata=mydata.reset_index(drop=True)\n",
    "    \n",
    "    mydata.columns=[mydata.iloc[0,0:4].replace('\\n', ' ', regex=True)]\n",
    "    \n",
    "    mydata.columns=pd.Series(mydata.iloc[0].values).replace('\\n', ' ', regex=True)\n",
    "    mydata.drop(index=0, inplace=True)\n",
    "    mydata.reset_index()\n",
    "    \n",
    "    ind_NAN=[]\n",
    "    for i in range(1,len(pd.Series(mydata['of_Payments'].values[1:]))):\n",
    "        if pd.Series(mydata['of_Payments'].values[i]).isna().values[0]==True:\n",
    "            ind_NAN.append(i)\n",
    "    mydata=mydata[:ind_NAN[0]]\n",
    "    data_for_json=mydata\n",
    "    \n",
    "    keys=pd.Series(data_for_json.columns.values)\n",
    "    all_keys=list(pd.Series(data_for_json.columns.values))\n",
    "    \n",
    "    values=[]\n",
    "    for each_col in data_for_json.columns:\n",
    "        values.append(str(list(data_for_json[each_col].values.flatten())))\n",
    "    final_data_dict=dict(zip(all_keys, values))\n",
    "    \n",
    "    final_dictt=json.dumps(final_data_dict)\n",
    "    app.quit()\n",
    "    return final_dictt\n",
    "    \n",
    "    \n",
    "\n",
    "    \n",
    "of_payment(paths)"
   ]
  },
  {
   "cell_type": "code",
   "execution_count": 88,
   "metadata": {},
   "outputs": [
    {
     "data": {
      "text/plain": [
       "'{\"Down_Payment\": \"[0, 2500, 5000, 7500, 10000, 12500]\", \"Loan Amount\": \"[50000, 47500, 45000, 42500, 40000, 37500]\", \"Payment\": \"[41666.67, 39583.33, 37500, 35416.67, 33333.33, 31250]\", \"Total Interest\": \"[2450000.1999999997, 2327499.8000000003, 2205000, 2082500.1999999997, 1959999.8, 1837500]\"}'"
      ]
     },
     "execution_count": 88,
     "metadata": {},
     "output_type": "execute_result"
    }
   ],
   "source": [
    "def down_payment(paths):\n",
    "    app = xw.App()\n",
    "    wb = app.books.open(paths)\n",
    "    app=xw.apps.active\n",
    "    sht = wb.sheets['LoanComparisons']\n",
    "    \n",
    "\n",
    "    data=pd.read_excel(paths, sheet_name='LoanComparisons')\n",
    "    \n",
    "    mydata=data.iloc[33:42,0:4]\n",
    "    mydata=mydata.reset_index(drop=True)\n",
    "    \n",
    "    mydata.columns=[mydata.iloc[0,0:4].replace('\\n', ' ', regex=True)]\n",
    "    \n",
    "    mydata.columns=pd.Series(mydata.iloc[0].values).replace('\\n', ' ', regex=True)\n",
    "    mydata.drop(index=0, inplace=True)\n",
    "    mydata.reset_index()\n",
    "    \n",
    "    ind_NAN=[]\n",
    "    for i in range(1,len(pd.Series(mydata['Down_Payment'].values[1:]))):\n",
    "        if pd.Series(mydata['Down_Payment'].values[i]).isna().values[0]==True:\n",
    "            ind_NAN.append(i)\n",
    "    mydata=mydata[:ind_NAN[0]]\n",
    "    data_for_json=mydata\n",
    "    \n",
    "    keys=pd.Series(data_for_json.columns.values)\n",
    "    all_keys=list(pd.Series(data_for_json.columns.values))\n",
    "    \n",
    "    values=[]\n",
    "    for each_col in data_for_json.columns:\n",
    "        values.append(str(list(data_for_json[each_col].values.flatten())))\n",
    "    final_data_dict=dict(zip(all_keys, values))\n",
    "    \n",
    "    final_dictt=json.dumps(final_data_dict)\n",
    "    app.quit()\n",
    "    return final_dictt\n",
    "down_payment(paths)   \n"
   ]
  },
  {
   "cell_type": "code",
   "execution_count": 93,
   "metadata": {},
   "outputs": [
    {
     "ename": "IndexError",
     "evalue": "list index out of range",
     "output_type": "error",
     "traceback": [
      "\u001b[1;31m---------------------------------------------------------------------------\u001b[0m",
      "\u001b[1;31mIndexError\u001b[0m                                Traceback (most recent call last)",
      "\u001b[1;32m<ipython-input-93-6b14b4efda46>\u001b[0m in \u001b[0;36m<module>\u001b[1;34m\u001b[0m\n\u001b[0;32m     35\u001b[0m     \u001b[0mapp\u001b[0m\u001b[1;33m.\u001b[0m\u001b[0mquit\u001b[0m\u001b[1;33m(\u001b[0m\u001b[1;33m)\u001b[0m\u001b[1;33m\u001b[0m\u001b[1;33m\u001b[0m\u001b[0m\n\u001b[0;32m     36\u001b[0m     \u001b[1;32mreturn\u001b[0m \u001b[0mfinal_dictt\u001b[0m\u001b[1;33m\u001b[0m\u001b[1;33m\u001b[0m\u001b[0m\n\u001b[1;32m---> 37\u001b[1;33m \u001b[0mFrequency\u001b[0m\u001b[1;33m(\u001b[0m\u001b[0mpaths\u001b[0m\u001b[1;33m)\u001b[0m\u001b[1;33m\u001b[0m\u001b[1;33m\u001b[0m\u001b[0m\n\u001b[0m",
      "\u001b[1;32m<ipython-input-93-6b14b4efda46>\u001b[0m in \u001b[0;36mFrequency\u001b[1;34m(paths)\u001b[0m\n\u001b[0;32m     21\u001b[0m         \u001b[1;32mif\u001b[0m \u001b[0mpd\u001b[0m\u001b[1;33m.\u001b[0m\u001b[0mSeries\u001b[0m\u001b[1;33m(\u001b[0m\u001b[0mmydata\u001b[0m\u001b[1;33m[\u001b[0m\u001b[1;34m'Frequency'\u001b[0m\u001b[1;33m]\u001b[0m\u001b[1;33m.\u001b[0m\u001b[0mvalues\u001b[0m\u001b[1;33m[\u001b[0m\u001b[0mi\u001b[0m\u001b[1;33m]\u001b[0m\u001b[1;33m)\u001b[0m\u001b[1;33m.\u001b[0m\u001b[0misna\u001b[0m\u001b[1;33m(\u001b[0m\u001b[1;33m)\u001b[0m\u001b[1;33m.\u001b[0m\u001b[0mvalues\u001b[0m\u001b[1;33m[\u001b[0m\u001b[1;36m0\u001b[0m\u001b[1;33m]\u001b[0m\u001b[1;33m==\u001b[0m\u001b[1;32mTrue\u001b[0m\u001b[1;33m:\u001b[0m\u001b[1;33m\u001b[0m\u001b[1;33m\u001b[0m\u001b[0m\n\u001b[0;32m     22\u001b[0m             \u001b[0mind_NAN\u001b[0m\u001b[1;33m.\u001b[0m\u001b[0mappend\u001b[0m\u001b[1;33m(\u001b[0m\u001b[0mi\u001b[0m\u001b[1;33m)\u001b[0m\u001b[1;33m\u001b[0m\u001b[1;33m\u001b[0m\u001b[0m\n\u001b[1;32m---> 23\u001b[1;33m     \u001b[0mmydata\u001b[0m\u001b[1;33m=\u001b[0m\u001b[0mmydata\u001b[0m\u001b[1;33m[\u001b[0m\u001b[1;33m:\u001b[0m\u001b[0mind_NAN\u001b[0m\u001b[1;33m[\u001b[0m\u001b[1;36m0\u001b[0m\u001b[1;33m]\u001b[0m\u001b[1;33m]\u001b[0m\u001b[1;33m\u001b[0m\u001b[1;33m\u001b[0m\u001b[0m\n\u001b[0m\u001b[0;32m     24\u001b[0m     \u001b[0mdata_for_json\u001b[0m\u001b[1;33m=\u001b[0m\u001b[0mmydata\u001b[0m\u001b[1;33m\u001b[0m\u001b[1;33m\u001b[0m\u001b[0m\n\u001b[0;32m     25\u001b[0m \u001b[1;33m\u001b[0m\u001b[0m\n",
      "\u001b[1;31mIndexError\u001b[0m: list index out of range"
     ]
    }
   ],
   "source": [
    "def Frequency(paths):\n",
    "    app = xw.App()\n",
    "    wb = app.books.open(paths)\n",
    "    app=xw.apps.active\n",
    "    sht = wb.sheets['LoanComparisons']\n",
    "    \n",
    "\n",
    "    data=pd.read_excel(paths, sheet_name='LoanComparisons')\n",
    "    \n",
    "    mydata=data.iloc[45:55,0:4]\n",
    "    mydata=mydata.reset_index(drop=True)\n",
    "    \n",
    "    mydata.columns=[mydata.iloc[0,0:4].replace('\\n', ' ', regex=True)]\n",
    "    \n",
    "    mydata.columns=pd.Series(mydata.iloc[0].values).replace('\\n', ' ', regex=True)\n",
    "    mydata.drop(index=0, inplace=True)\n",
    "    mydata.reset_index()\n",
    "    \n",
    "    ind_NAN=[]\n",
    "    for i in range(1,len(pd.Series(mydata['Frequency'].values[1:]))):\n",
    "        if pd.Series(mydata['Frequency'].values[i]).isna().values[0]==True:\n",
    "            ind_NAN.append(i)\n",
    "    mydata=mydata[:ind_NAN[0]]\n",
    "    data_for_json=mydata\n",
    "    \n",
    "    keys=pd.Series(data_for_json.columns.values)\n",
    "    all_keys=list(pd.Series(data_for_json.columns.values))\n",
    "    \n",
    "    values=[]\n",
    "    for each_col in data_for_json.columns:\n",
    "        values.append(str(list(data_for_json[each_col].values.flatten())))\n",
    "    final_data_dict=dict(zip(all_keys, values))\n",
    "    \n",
    "    final_dictt=json.dumps(final_data_dict)\n",
    "    app.quit()\n",
    "    return final_dictt\n",
    "Frequency(paths)   "
   ]
  },
  {
   "cell_type": "code",
   "execution_count": null,
   "metadata": {},
   "outputs": [],
   "source": []
  }
 ],
 "metadata": {
  "kernelspec": {
   "display_name": "Python 3",
   "language": "python",
   "name": "python3"
  },
  "language_info": {
   "codemirror_mode": {
    "name": "ipython",
    "version": 3
   },
   "file_extension": ".py",
   "mimetype": "text/x-python",
   "name": "python",
   "nbconvert_exporter": "python",
   "pygments_lexer": "ipython3",
   "version": "3.7.1"
  }
 },
 "nbformat": 4,
 "nbformat_minor": 2
}
