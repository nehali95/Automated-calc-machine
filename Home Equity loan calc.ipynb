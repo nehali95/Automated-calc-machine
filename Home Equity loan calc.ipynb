{
 "cells": [
  {
   "cell_type": "code",
   "execution_count": 1,
   "metadata": {},
   "outputs": [],
   "source": [
    "paths='C:\\\\Users\\\\MudraCircle\\\\Nehali\\\\home-equity-loan-calculator.xlsx'\n",
    "import xlwings as xw\n",
    "import pandas as pd\n",
    "import datetime as dt\n",
    "import json\n",
    "from openpyxl import load_workbook\n",
    "import numpy as np\n",
    "import datetime"
   ]
  },
  {
   "cell_type": "code",
   "execution_count": 2,
   "metadata": {},
   "outputs": [
    {
     "data": {
      "text/plain": [
       "(50000.0,\n",
       " 0.06,\n",
       " 5.0,\n",
       " datetime.datetime(2015, 6, 9, 0, 0),\n",
       " 'Monthly',\n",
       " 85.0,\n",
       " 1.0,\n",
       " 2000.0,\n",
       " 5.0,\n",
       " 0.3)"
      ]
     },
     "execution_count": 2,
     "metadata": {},
     "output_type": "execute_result"
    }
   ],
   "source": [
    "def home_equity_loan_input(paths,loan_amt,anual_int_rt,term_length,first_pay_date,comp_period,Extra_Payment,Every_N_Months,Extra_Annual_Payment, Balance_at_YeaR,Tax_bracket):\n",
    "    app = xw.App()\n",
    "    \n",
    "   \n",
    "    wb = app.books.open(paths)\n",
    "    app=xw.apps.active\n",
    "    sht = wb.sheets['LoanCalculator']\n",
    "    date_time_str = first_pay_date  \n",
    "    begin_date = dt.datetime.strptime(date_time_str, '%Y-%m-%d')\n",
    "\n",
    "   \n",
    "    sht.range('D5').value =loan_amt\n",
    "    sht.range('D6').value =(anual_int_rt/100)\n",
    "    sht.range('D7').value =term_length\n",
    "    sht.range('D8').value =begin_date\n",
    "    sht.range('D9').value =comp_period\n",
    "    input10=sht.range('D5').value\n",
    "    input20=sht.range('D6').value\n",
    "    input30=sht.range('D7').value\n",
    "    input40=sht.range('D8').value\n",
    "    input50=sht.range('D9').value\n",
    "     # Extra Payment\n",
    "    sht.range('D14').value =Extra_Payment\n",
    "    sht.range('D15').value =Every_N_Months\n",
    "    sht.range('D16').value =Extra_Annual_Payment\n",
    "    input60=sht.range('D14').value\n",
    "    input70=sht.range('D15').value\n",
    "    input80=sht.range('D16').value\n",
    "    \n",
    "    sht.range('H5').value =Balance_at_YeaR\n",
    "    input90=sht.range('H5').value\n",
    "    #tax deduction\n",
    "    sht.range('L22').value=(Tax_bracket/100)\n",
    "    input91=sht.range('L22').value\n",
    "    \n",
    "    \n",
    "    wb.save()\n",
    "    app.quit()\n",
    "    \n",
    "    return ( input10, input20, input30,input40,input50,input60, input70, input80, input90,input91  )\n",
    "home_equity_loan_input(paths,50000,6,5, '2015-6-9','Monthly',85,1,2000,5,30)"
   ]
  },
  {
   "cell_type": "code",
   "execution_count": 3,
   "metadata": {},
   "outputs": [
    {
     "data": {
      "text/plain": [
       "{'No': '[nan, 1, 2, 3, 4, 5, 6, 7, 8, 9, 10, 11, 12, 13, 14, 15, 16, 17, 18, 19, 20, 21, 22, 23, 24, 25, 26, 27, 28, 29, 30, 31, 32, 33, 34, 35, 36, 37, 38, 39, 40, 41, 42, 43, 44, 45, 46, 47, 48]',\n",
       " 'Payment Date': '[nan, datetime.datetime(2015, 6, 9, 0, 0), datetime.datetime(2015, 7, 9, 0, 0), datetime.datetime(2015, 8, 9, 0, 0), datetime.datetime(2015, 9, 9, 0, 0), datetime.datetime(2015, 10, 9, 0, 0), datetime.datetime(2015, 11, 9, 0, 0), datetime.datetime(2015, 12, 9, 0, 0), datetime.datetime(2016, 1, 9, 0, 0), datetime.datetime(2016, 2, 9, 0, 0), datetime.datetime(2016, 3, 9, 0, 0), datetime.datetime(2016, 4, 9, 0, 0), datetime.datetime(2016, 5, 9, 0, 0), datetime.datetime(2016, 6, 9, 0, 0), datetime.datetime(2016, 7, 9, 0, 0), datetime.datetime(2016, 8, 9, 0, 0), datetime.datetime(2016, 9, 9, 0, 0), datetime.datetime(2016, 10, 9, 0, 0), datetime.datetime(2016, 11, 9, 0, 0), datetime.datetime(2016, 12, 9, 0, 0), datetime.datetime(2017, 1, 9, 0, 0), datetime.datetime(2017, 2, 9, 0, 0), datetime.datetime(2017, 3, 9, 0, 0), datetime.datetime(2017, 4, 9, 0, 0), datetime.datetime(2017, 5, 9, 0, 0), datetime.datetime(2017, 6, 9, 0, 0), datetime.datetime(2017, 7, 9, 0, 0), datetime.datetime(2017, 8, 9, 0, 0), datetime.datetime(2017, 9, 9, 0, 0), datetime.datetime(2017, 10, 9, 0, 0), datetime.datetime(2017, 11, 9, 0, 0), datetime.datetime(2017, 12, 9, 0, 0), datetime.datetime(2018, 1, 9, 0, 0), datetime.datetime(2018, 2, 9, 0, 0), datetime.datetime(2018, 3, 9, 0, 0), datetime.datetime(2018, 4, 9, 0, 0), datetime.datetime(2018, 5, 9, 0, 0), datetime.datetime(2018, 6, 9, 0, 0), datetime.datetime(2018, 7, 9, 0, 0), datetime.datetime(2018, 8, 9, 0, 0), datetime.datetime(2018, 9, 9, 0, 0), datetime.datetime(2018, 10, 9, 0, 0), datetime.datetime(2018, 11, 9, 0, 0), datetime.datetime(2018, 12, 9, 0, 0), datetime.datetime(2019, 1, 9, 0, 0), datetime.datetime(2019, 2, 9, 0, 0), datetime.datetime(2019, 3, 9, 0, 0), datetime.datetime(2019, 4, 9, 0, 0), datetime.datetime(2019, 5, 9, 0, 0)]',\n",
       " 'Payment': '[nan, 966.64, 966.64, 966.64, 966.64, 966.64, 966.64, 966.64, 966.64, 966.64, 966.64, 966.64, 966.64, 966.64, 966.64, 966.64, 966.64, 966.64, 966.64, 966.64, 966.64, 966.64, 966.64, 966.64, 966.64, 966.64, 966.64, 966.64, 966.64, 966.64, 966.64, 966.64, 966.64, 966.64, 966.64, 966.64, 966.64, 966.64, 966.64, 966.64, 966.64, 966.64, 966.64, 966.64, 966.64, 966.64, 966.64, 966.64, 913.63]',\n",
       " 'Extra Payments': '[nan, 85, 85, 85, 85, 85, 85, 85, 85, 85, 85, 85, 2085, 85, 85, 85, 85, 85, 85, 85, 85, 85, 85, 85, 2085, 85, 85, 85, 85, 85, 85, 85, 85, 85, 85, 85, 2085, 85, 85, 85, 85, 85, 85, 85, 85, 85, 85, 85, 0]',\n",
       " 'Additional Payment': '[nan, nan, nan, nan, nan, nan, nan, nan, nan, nan, nan, nan, nan, nan, nan, nan, nan, nan, nan, nan, nan, nan, nan, nan, nan, nan, nan, nan, nan, nan, nan, nan, nan, nan, nan, nan, nan, nan, nan, nan, nan, nan, nan, nan, nan, nan, nan, nan, nan]',\n",
       " 'Interest': '[nan, 250, 245.99, 241.96, 237.92, 233.85, 229.76, 225.65, 221.52, 217.37, 213.2, 209, 204.79, 190.56, 186.25, 181.92, 177.58, 173.21, 168.81, 164.4, 159.96, 155.5, 151.02, 146.52, 142, 127.45, 122.83, 118.18, 113.51, 108.82, 104.11, 99.37, 94.61, 89.83, 85.02, 80.18, 75.33, 60.44, 55.49, 50.51, 45.5, 40.47, 35.42, 30.33, 25.23, 20.1, 14.94, 9.75, 4.55]',\n",
       " 'Principal': '[nan, 801.64, 805.65, 809.68, 813.72, 817.79, 821.88, 825.99, 830.12, 834.27, 838.44, 842.64, 2846.85, 861.0799999999999, 865.39, 869.72, 874.06, 878.43, 882.8299999999999, 887.24, 891.68, 896.14, 900.62, 905.12, 2909.64, 924.1899999999999, 928.81, 933.46, 938.13, 942.8199999999999, 947.53, 952.27, 957.03, 961.81, 966.62, 971.46, 2976.31, 991.2, 996.15, 1001.13, 1006.14, 1011.17, 1016.22, 1021.31, 1026.4099999999999, 1031.54, 1036.6999999999998, 1041.8899999999999, 909.08]',\n",
       " 'Balance': '[50000, 49198.36, 48392.71, 47583.03, 46769.31, 45951.52, 45129.64, 44303.65, 43473.53, 42639.26, 41800.82, 40958.18, 38111.33, 37250.25, 36384.86, 35515.14, 34641.08, 33762.65, 32879.82, 31992.579999999998, 31100.899999999998, 30204.76, 29304.14, 28399.02, 25489.38, 24565.190000000002, 23636.38, 22702.920000000002, 21764.79, 20821.97, 19874.440000000002, 18922.170000000002, 17965.140000000003, 17003.33, 16036.710000000001, 15065.25, 12088.94, 11097.74, 10101.59, 9100.460000000001, 8094.320000000001, 7083.150000000001, 6066.93, 5045.620000000001, 4019.210000000001, 2987.670000000001, 1950.9700000000012, 909.0800000000013, 1.2505552149377763e-12]'}"
      ]
     },
     "execution_count": 3,
     "metadata": {},
     "output_type": "execute_result"
    }
   ],
   "source": [
    "def amort_schedule(paths):\n",
    "        app = xw.App()\n",
    "        wb = app.books.open(paths)\n",
    "        app=xw.apps.active\n",
    "        sht = wb.sheets['LoanCalculator']\n",
    "\n",
    "        data=pd.read_excel(paths, sheet_name='LoanCalculator')\n",
    "\n",
    "        mydata=data.iloc[25:782,0:8]\n",
    "        mydata=mydata.reset_index(drop=True)\n",
    "\n",
    "        mydata.columns=[mydata.iloc[0,0:8].replace('\\n', ' ', regex=True)]\n",
    "\n",
    "        mydata.columns=pd.Series(mydata.iloc[0].values).replace('\\n', ' ', regex=True)\n",
    "        mydata.drop(index=0, inplace=True)\n",
    "        mydata.reset_index()\n",
    "\n",
    "        ind_NAN=[]\n",
    "        for i in range(1,len(pd.Series(mydata['No'].values[1:]))):\n",
    "            if pd.Series(mydata['No'].values[i]).isna().values[0]==True:\n",
    "                ind_NAN.append(i)\n",
    "        mydata=mydata[:ind_NAN[0]]\n",
    "        data_for_json=mydata\n",
    "        \n",
    "        keys=pd.Series(data_for_json.columns.values)\n",
    "        #return keys\n",
    "    \n",
    "        all_keys=list(pd.Series(data_for_json.columns.values))\n",
    "        #return all_keys\n",
    "        \n",
    "            \n",
    "        values=[]\n",
    "        for each_col in data_for_json.columns:\n",
    "            values.append(str(list(data_for_json[each_col].values.flatten())))\n",
    "                \n",
    "            \n",
    "        final_data_dict=dict(zip(all_keys, values))\n",
    "        \n",
    "        final_dictt=json.dumps(final_data_dict)\n",
    "        app.quit()\n",
    "        return final_data_dict\n",
    "amort_schedule(paths)"
   ]
  },
  {
   "cell_type": "code",
   "execution_count": 4,
   "metadata": {},
   "outputs": [
    {
     "data": {
      "text/plain": [
       "{'Tax Returned': '[nan, 75, 73.797, 72.588, 71.37599999999999, 70.155, 68.928, 67.695, 66.456, 65.211, 63.959999999999994, 62.699999999999996, 61.437, 57.168, 55.875, 54.57599999999999, 53.274, 51.963, 50.643, 49.32, 47.988, 46.65, 45.306000000000004, 43.956, 42.6, 38.235, 36.849, 35.454, 34.053, 32.645999999999994, 31.232999999999997, 29.811, 28.383, 26.948999999999998, 25.505999999999997, 24.054000000000002, 22.599, 18.131999999999998, 16.647, 15.152999999999999, 13.65, 12.141, 10.626, 9.098999999999998, 7.569, 6.03, 4.481999999999999, 2.925, 1.365]',\n",
       " 'Cum. Tax Returned': '[nan, 75, 148.797, 221.385, 292.76099999999997, 362.91599999999994, 431.84399999999994, 499.53899999999993, 565.9949999999999, 631.2059999999999, 695.1659999999999, 757.866, 819.303, 876.471, 932.346, 986.922, 1040.196, 1092.1589999999999, 1142.802, 1192.1219999999998, 1240.11, 1286.76, 1332.066, 1376.022, 1418.6219999999998, 1456.8569999999997, 1493.7059999999997, 1529.1599999999996, 1563.2129999999997, 1595.8589999999997, 1627.0919999999996, 1656.9029999999996, 1685.2859999999996, 1712.2349999999997, 1737.7409999999998, 1761.7949999999998, 1784.3939999999998, 1802.5259999999998, 1819.1729999999998, 1834.3259999999998, 1847.9759999999999, 1860.117, 1870.743, 1879.8419999999999, 1887.4109999999998, 1893.4409999999998, 1897.9229999999998, 1900.8479999999997, 1902.2129999999997]'}"
      ]
     },
     "execution_count": 4,
     "metadata": {},
     "output_type": "execute_result"
    }
   ],
   "source": [
    "def amort_schedule1(paths):\n",
    "        app = xw.App()\n",
    "        wb = app.books.open(paths)\n",
    "        app=xw.apps.active\n",
    "        sht = wb.sheets['LoanCalculator']\n",
    "\n",
    "        data=pd.read_excel(paths, sheet_name='LoanCalculator')\n",
    "\n",
    "        mydata=data.iloc[25:782,10:12]\n",
    "        mydata=mydata.reset_index(drop=True)\n",
    "\n",
    "        mydata.columns=[mydata.iloc[0,0:12].replace('\\n', ' ', regex=True)]\n",
    "\n",
    "        mydata.columns=pd.Series(mydata.iloc[0].values).replace('\\n', ' ', regex=True)\n",
    "        mydata.drop(index=0, inplace=True)\n",
    "        mydata.reset_index()\n",
    "\n",
    "        ind_NAN=[]\n",
    "        for i in range(1,len(pd.Series(mydata['Tax Returned'].values[1:]))):\n",
    "            if pd.Series(mydata['Tax Returned'].values[i]).isna().values[0]==True:\n",
    "                ind_NAN.append(i)\n",
    "        mydata=mydata[:ind_NAN[0]]\n",
    "        data_for_json=mydata\n",
    "        \n",
    "        keys=pd.Series(data_for_json.columns.values)\n",
    "        #return keys\n",
    "    \n",
    "        all_keys=list(pd.Series(data_for_json.columns.values))\n",
    "        #return all_keys\n",
    "        \n",
    "            \n",
    "        values=[]\n",
    "        for each_col in data_for_json.columns:\n",
    "            values.append(str(list(data_for_json[each_col].values.flatten())))\n",
    "                \n",
    "            \n",
    "        final_data_dict=dict(zip(all_keys, values))\n",
    "        \n",
    "        final_dictt=json.dumps(final_data_dict)\n",
    "        app.quit()\n",
    "        return final_data_dict\n",
    "amort_schedule1(paths)"
   ]
  },
  {
   "cell_type": "code",
   "execution_count": 5,
   "metadata": {},
   "outputs": [
    {
     "data": {
      "text/plain": [
       "'{\"Monthly_Interest_Rate\": 0.004999999999999893, \"Total_Payments\": 56340.70999999999, \"Total_Interest\": 6340.71, \"Number_of_Payments\": 48.0, \"Last_Payment_Date\": \"2019-05-09 00:00:00\", \"Interest_Savings\": 1657.7200000000075, \"Interest_Paid\": 6340.71, \"Principal_Paid\": 49999.99999999999, \"Outstanding_Balance\": 0.0}'"
      ]
     },
     "execution_count": 5,
     "metadata": {},
     "output_type": "execute_result"
    }
   ],
   "source": [
    "def output(paths):\n",
    "    app = xw.App()\n",
    "    wb = app.books.open(paths)\n",
    "    app=xw.apps.active\n",
    "    sht = wb.sheets['LoanCalculator']\n",
    "    name=['Monthly_Interest_Rate','Total_Payments','Total_Interest','Number_of_Payments','Last_Payment_Date','Interest_Savings','Interest_Paid','Principal_Paid','Outstanding_Balance']\n",
    "    output=[float(sht.range('D19').value) , float(sht.range('D20').value) , float(sht.range('D21').value), float(sht.range('D22').value),(sht.range('D23').value),float(sht.range('D24').value),float(sht.range('H6').value),float(sht.range('H7').value),float(sht.range('H8').value)]\n",
    "    \n",
    "    c=dict(zip(name,output))\n",
    "    def myconverter(o):\n",
    "        if isinstance(o, datetime.datetime):\n",
    "            return o.__str__()\n",
    "    C=json.dumps(c,default = myconverter) #TO READ DATETIME IN JSON\n",
    "   \n",
    "    app.quit()\n",
    "    return C\n",
    "   \n",
    "output(paths)"
   ]
  },
  {
   "cell_type": "code",
   "execution_count": null,
   "metadata": {},
   "outputs": [],
   "source": []
  }
 ],
 "metadata": {
  "kernelspec": {
   "display_name": "Python 3",
   "language": "python",
   "name": "python3"
  },
  "language_info": {
   "codemirror_mode": {
    "name": "ipython",
    "version": 3
   },
   "file_extension": ".py",
   "mimetype": "text/x-python",
   "name": "python",
   "nbconvert_exporter": "python",
   "pygments_lexer": "ipython3",
   "version": "3.7.1"
  }
 },
 "nbformat": 4,
 "nbformat_minor": 2
}
