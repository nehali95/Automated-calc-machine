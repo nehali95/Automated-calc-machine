{
 "cells": [
  {
   "cell_type": "code",
   "execution_count": 1,
   "metadata": {},
   "outputs": [],
   "source": [
    "paths='C:\\\\Users\\\\MudraCircle\\\\Nehali\\\\home-affordability.xlsx'\n",
    "import xlwings as xw\n",
    "import pandas as pd\n",
    "import datetime as dt\n",
    "import json\n",
    "from openpyxl import load_workbook\n",
    "import numpy as np"
   ]
  },
  {
   "cell_type": "code",
   "execution_count": 4,
   "metadata": {},
   "outputs": [
    {
     "data": {
      "text/plain": [
       "(50000.0, 0.06)"
      ]
     },
     "execution_count": 4,
     "metadata": {},
     "output_type": "execute_result"
    }
   ],
   "source": [
    "def home_income(paths,gross_anual_inc, max_hous_exps):\n",
    "    app = xw.App()\n",
    "    \n",
    "   \n",
    "    wb = app.books.open(paths)\n",
    "    app=xw.apps.active\n",
    "    sht = wb.sheets['Affordability']\n",
    "\n",
    "   \n",
    "    sht.range('D5').value =gross_anual_inc\n",
    "    sht.range('D6').value =(max_hous_exps/100)\n",
    "    input20=sht.range('D5').value\n",
    "    input30=sht.range('D6').value\n",
    "    wb.save()\n",
    "    app.quit()\n",
    "    \n",
    "    return ( input20, input30 )\n",
    "home_income(paths,50000,6)"
   ]
  },
  {
   "cell_type": "code",
   "execution_count": 5,
   "metadata": {},
   "outputs": [
    {
     "data": {
      "text/plain": [
       "'{\"max_monthly_pay\": 250.0}'"
      ]
     },
     "execution_count": 5,
     "metadata": {},
     "output_type": "execute_result"
    }
   ],
   "source": [
    "def max_monthly_pay(paths):\n",
    "    app = xw.App()\n",
    "    wb = app.books.open(paths)\n",
    "    app=xw.apps.active\n",
    "    sht = wb.sheets['Affordability']\n",
    "    name=['max_monthly_pay' ]\n",
    "    output=[float(sht.range('D7').value)]\n",
    "   \n",
    "    c=dict(zip(name,output))\n",
    "    C=json.dumps(c)\n",
    "    app.quit()\n",
    "    return C\n",
    "    \n",
    "max_monthly_pay(paths)"
   ]
  },
  {
   "cell_type": "code",
   "execution_count": 12,
   "metadata": {},
   "outputs": [
    {
     "data": {
      "text/plain": [
       "(50000.0, 500.0, 400.0, 300.0, 200.0, 100.0)"
      ]
     },
     "execution_count": 12,
     "metadata": {},
     "output_type": "execute_result"
    }
   ],
   "source": [
    "def home_income(paths,car_loans,credit_card_min, student_loan, child_sup, other_mortgages, other_loan):\n",
    "    app = xw.App()\n",
    "    wb = app.books.open(paths)\n",
    "    app=xw.apps.active\n",
    "    sht = wb.sheets['Affordability']\n",
    "    \n",
    "    sht.range('D10').value =car_loans\n",
    "    sht.range('D11').value =credit_card_min\n",
    "    sht.range('D12').value =student_loan\n",
    "    sht.range('D13').value =child_sup\n",
    "    sht.range('D14').value =other_mortgages\n",
    "    sht.range('D15').value =other_loan\n",
    "    input10=sht.range('D10').value\n",
    "    input20=sht.range('D11').value\n",
    "    input30=sht.range('D12').value\n",
    "    input40=sht.range('D13').value\n",
    "    input50=sht.range('D14').value\n",
    "    input60=sht.range('D15').value\n",
    "    wb.save()\n",
    "    app.quit()\n",
    "    \n",
    "    return ( input10, input20, input30, input40, input50, input60 )\n",
    "home_income(paths,50000,500,400,300,200,100)"
   ]
  },
  {
   "cell_type": "code",
   "execution_count": 14,
   "metadata": {},
   "outputs": [
    {
     "data": {
      "text/plain": [
       "'{\"curr_monthly_debt\": 400.0, \"max_debt_to_inc_ratio\": 0.36, \"max_monthly_pay_bs\": 1100.0, \"max_monthly_pay\": 250.0}'"
      ]
     },
     "execution_count": 14,
     "metadata": {},
     "output_type": "execute_result"
    }
   ],
   "source": [
    "def home_income_out(paths):\n",
    "    app = xw.App()\n",
    "    wb = app.books.open(paths)\n",
    "    app=xw.apps.active\n",
    "    sht = wb.sheets['Affordability']\n",
    "    name=['curr_monthly_debt','max_debt_to_inc_ratio','max_monthly_pay_bs', 'max_monthly_pay' ]\n",
    "    output=[float(sht.range('D16').value),float(sht.range('D17').value),float(sht.range('D18').value),float(sht.range('D20').value)]\n",
    "   \n",
    "    c=dict(zip(name,output))\n",
    "    C=json.dumps(c)\n",
    "    app.quit()\n",
    "    return C\n",
    "    \n",
    "home_income_out(paths)"
   ]
  },
  {
   "cell_type": "code",
   "execution_count": 16,
   "metadata": {},
   "outputs": [
    {
     "data": {
      "text/plain": [
       "(50000.0, 500.0, 400.0, 300.0, 200.0)"
      ]
     },
     "execution_count": 16,
     "metadata": {},
     "output_type": "execute_result"
    }
   ],
   "source": [
    "def monthly_housing_exps(paths,prop_tax,home_owner_ins, PMI, hoa_fees, others):\n",
    "    app = xw.App()\n",
    "    wb = app.books.open(paths)\n",
    "    app=xw.apps.active\n",
    "    sht = wb.sheets['Affordability']\n",
    "    \n",
    "    sht.range('D23').value =prop_tax\n",
    "    sht.range('D24').value =home_owner_ins\n",
    "    sht.range('D25').value =PMI\n",
    "    sht.range('D26').value =hoa_fees\n",
    "    sht.range('D27').value =others\n",
    "    \n",
    "    input10=sht.range('D23').value\n",
    "    input20=sht.range('D24').value\n",
    "    input30=sht.range('D25').value\n",
    "    input40=sht.range('D26').value\n",
    "    input50=sht.range('D27').value\n",
    "    \n",
    "    wb.save()\n",
    "    app.quit()\n",
    "    \n",
    "    return ( input10, input20, input30, input40, input50 )\n",
    "monthly_housing_exps(paths,50000,500,400,300,200)"
   ]
  },
  {
   "cell_type": "code",
   "execution_count": 17,
   "metadata": {},
   "outputs": [
    {
     "data": {
      "text/plain": [
       "'{\"max_PI_pay_BASE\": -51150.0}'"
      ]
     },
     "execution_count": 17,
     "metadata": {},
     "output_type": "execute_result"
    }
   ],
   "source": [
    "def max_PI_pay(paths):\n",
    "    app = xw.App()\n",
    "    wb = app.books.open(paths)\n",
    "    app=xw.apps.active\n",
    "    sht = wb.sheets['Affordability']\n",
    "    name=['max_PI_pay_BASE' ]\n",
    "    output=[float(sht.range('D28').value)]\n",
    "   \n",
    "    c=dict(zip(name,output))\n",
    "    C=json.dumps(c)\n",
    "    app.quit()\n",
    "    return C\n",
    "    \n",
    "max_PI_pay(paths)"
   ]
  },
  {
   "cell_type": "code",
   "execution_count": 19,
   "metadata": {},
   "outputs": [
    {
     "data": {
      "text/plain": [
       "(50000.0, 500.0, 4.0, 3.0)"
      ]
     },
     "execution_count": 19,
     "metadata": {},
     "output_type": "execute_result"
    }
   ],
   "source": [
    "def AVAILABLE_FUND(paths,available_funds,fixed_closing_cost,var_closing_cost,min_down_pay):\n",
    "    app = xw.App()\n",
    "    wb = app.books.open(paths)\n",
    "    app=xw.apps.active\n",
    "    sht = wb.sheets['Affordability']\n",
    "    \n",
    "    sht.range('D31').value =available_funds\n",
    "    sht.range('D32').value =fixed_closing_cost\n",
    "    sht.range('D33').value =(var_closing_cost/100)\n",
    "    sht.range('D34').value =(min_down_pay/100)\n",
    "    \n",
    "    input10=sht.range('D31').value\n",
    "    input20=sht.range('D32').value\n",
    "    input30=sht.range('D33').value\n",
    "    input40=sht.range('D34').value\n",
    "    \n",
    "    \n",
    "    wb.save()\n",
    "    app.quit()\n",
    "    \n",
    "    return ( input10, input20, input30, input40 )\n",
    "AVAILABLE_FUND(paths,50000,500,400,300)"
   ]
  },
  {
   "cell_type": "code",
   "execution_count": 20,
   "metadata": {},
   "outputs": [
    {
     "data": {
      "text/plain": [
       "'{\"max_home_price\": 7071.428571428572, \"max_PI_payent_basedon_funds\": -67.52016321582927, \"max_Pi_pay\": -51150.0}'"
      ]
     },
     "execution_count": 20,
     "metadata": {},
     "output_type": "execute_result"
    }
   ],
   "source": [
    "def AVAILABLE_FUND_out(paths):\n",
    "    app = xw.App()\n",
    "    wb = app.books.open(paths)\n",
    "    app=xw.apps.active\n",
    "    sht = wb.sheets['Affordability']\n",
    "    \n",
    "    name=['max_home_price','max_PI_payent_basedon_funds','max_Pi_pay' ]\n",
    "    output=[float(sht.range('D35').value),float(sht.range('D36').value),float(sht.range('D38').value)]\n",
    "   \n",
    "    c=dict(zip(name,output))\n",
    "    C=json.dumps(c)\n",
    "    app.quit()\n",
    "    return C\n",
    "AVAILABLE_FUND_out(paths)\n",
    "    "
   ]
  },
  {
   "cell_type": "code",
   "execution_count": 21,
   "metadata": {},
   "outputs": [
    {
     "data": {
      "text/plain": [
       "(40.0, 0.05)"
      ]
     },
     "execution_count": 21,
     "metadata": {},
     "output_type": "execute_result"
    }
   ],
   "source": [
    "def financing(paths,term_of_mortgage,anual_int_rt):\n",
    "    app = xw.App()\n",
    "    wb = app.books.open(paths)\n",
    "    app=xw.apps.active\n",
    "    sht = wb.sheets['Affordability']\n",
    "    \n",
    "    sht.range('D41').value =term_of_mortgage\n",
    "    sht.range('D42').value =(anual_int_rt/100)\n",
    "    input10=sht.range('D41').value\n",
    "    input20=sht.range('D42').value\n",
    "    \n",
    "    wb.save()\n",
    "    app.quit()\n",
    "    \n",
    "    return ( input10, input20)\n",
    "financing(paths,40,5)"
   ]
  },
  {
   "cell_type": "code",
   "execution_count": 22,
   "metadata": {},
   "outputs": [
    {
     "data": {
      "text/plain": [
       "'{\"loan_amt_based\": -10607706.470456604, \"down_pay_based\": 8496065.176365282, \"total_est_closing_cost\": -8446065.176365286, \"max_home_price\": -2111641.2940913215}'"
      ]
     },
     "execution_count": 22,
     "metadata": {},
     "output_type": "execute_result"
    }
   ],
   "source": [
    "def financing_out(paths):\n",
    "    app = xw.App()\n",
    "    wb = app.books.open(paths)\n",
    "    app=xw.apps.active\n",
    "    sht = wb.sheets['Affordability']\n",
    "    \n",
    "    name=['loan_amt_based','down_pay_based','total_est_closing_cost','max_home_price' ]\n",
    "    output=[float(sht.range('D43').value),float(sht.range('D44').value),float(sht.range('D45').value),float(sht.range('D46').value)]\n",
    "   \n",
    "    c=dict(zip(name,output))\n",
    "    C=json.dumps(c)\n",
    "    app.quit()\n",
    "    return C\n",
    "financing_out(paths)"
   ]
  },
  {
   "cell_type": "code",
   "execution_count": 23,
   "metadata": {},
   "outputs": [
    {
     "data": {
      "text/plain": [
       "(0.4, 5.0)"
      ]
     },
     "execution_count": 23,
     "metadata": {},
     "output_type": "execute_result"
    }
   ],
   "source": [
    "def financing(paths,home_price_depri,yr_to_depri):\n",
    "    app = xw.App()\n",
    "    wb = app.books.open(paths)\n",
    "    app=xw.apps.active\n",
    "    sht = wb.sheets['Affordability']\n",
    "    \n",
    "    sht.range('D49').value =(home_price_depri/100)\n",
    "    sht.range('D50').value =yr_to_depri\n",
    "    input10=sht.range('D49').value\n",
    "    input20=sht.range('D50').value\n",
    "    \n",
    "    wb.save()\n",
    "    app.quit()\n",
    "    \n",
    "    return ( input10, input20)\n",
    "financing(paths,40,5)"
   ]
  },
  {
   "cell_type": "code",
   "execution_count": 24,
   "metadata": {},
   "outputs": [
    {
     "data": {
      "text/plain": [
       "'{\"annual_depri\": -168931.30352730575}'"
      ]
     },
     "execution_count": 24,
     "metadata": {},
     "output_type": "execute_result"
    }
   ],
   "source": [
    "def AVAILABLE_FUND_out(paths):\n",
    "    app = xw.App()\n",
    "    wb = app.books.open(paths)\n",
    "    app=xw.apps.active\n",
    "    sht = wb.sheets['Affordability']\n",
    "    \n",
    "    name=['annual_depri']\n",
    "    out=[sht.range('D51').value]\n",
    "    c=dict(zip(name,out))\n",
    "    C=json.dumps(c)\n",
    "    app.quit()\n",
    "    return C\n",
    "AVAILABLE_FUND_out(paths)"
   ]
  },
  {
   "cell_type": "code",
   "execution_count": null,
   "metadata": {},
   "outputs": [],
   "source": []
  }
 ],
 "metadata": {
  "kernelspec": {
   "display_name": "Python 3",
   "language": "python",
   "name": "python3"
  },
  "language_info": {
   "codemirror_mode": {
    "name": "ipython",
    "version": 3
   },
   "file_extension": ".py",
   "mimetype": "text/x-python",
   "name": "python",
   "nbconvert_exporter": "python",
   "pygments_lexer": "ipython3",
   "version": "3.7.1"
  }
 },
 "nbformat": 4,
 "nbformat_minor": 2
}
